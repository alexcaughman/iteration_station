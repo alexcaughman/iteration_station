{
 "cells": [
  {
   "cell_type": "markdown",
   "metadata": {},
   "source": [
    "Weather call experimentation"
   ]
  },
  {
   "cell_type": "code",
   "execution_count": 1,
   "metadata": {
    "scrolled": true
   },
   "outputs": [
    {
     "name": "stdout",
     "output_type": "stream",
     "text": [
      "2020-06-28 13:44:22.585561\n"
     ]
    }
   ],
   "source": [
    "# Dependencies and Setup\n",
    "import csv\n",
    "import matplotlib.pyplot as plt\n",
    "import pandas as pd\n",
    "import numpy as np\n",
    "import requests\n",
    "import time\n",
    "from scipy.stats import linregress\n",
    "from pprint import pprint\n",
    "import scipy.stats as st\n",
    "from pprint import pprint\n",
    "import datetime\n",
    "\n",
    "x = datetime.datetime.now()\n",
    "print(x)\n",
    "\n",
    "# Import API key\n",
    "from api_keys import weather_api_key\n",
    "\n",
    "# Incorporated citipy to determine city based on latitude and longitude\n",
    "from citipy import citipy\n"
   ]
  },
  {
   "cell_type": "markdown",
   "metadata": {},
   "source": [
    "## Marietta at I-75"
   ]
  },
  {
   "cell_type": "code",
   "execution_count": 2,
   "metadata": {},
   "outputs": [
    {
     "name": "stdout",
     "output_type": "stream",
     "text": [
      "1557878400.0\n",
      "1557964800.0\n",
      "marietta\n",
      "us\n"
     ]
    }
   ],
   "source": [
    "\n",
    "# Marietta I-75\n",
    "lat = 33.946706\n",
    "lon = -84.513774\n",
    "\n",
    "\n",
    "city = citipy.nearest_city(lat, lon).city_name\n",
    "country = citipy.nearest_city(lat,lon).country_code\n",
    "\n",
    "from datetime import timezone\n",
    "starttime = datetime.datetime(2019, 5, 15)\n",
    "start = starttime.replace(tzinfo=timezone.utc).timestamp()\n",
    "endtime = datetime.datetime(2019, 5, 16)\n",
    "end = endtime.replace(tzinfo=timezone.utc).timestamp()\n",
    "\n",
    "print(start)\n",
    "print(end)\n",
    "\n",
    "print(city)\n",
    "print(country)\n"
   ]
  },
  {
   "cell_type": "code",
   "execution_count": 3,
   "metadata": {},
   "outputs": [
    {
     "name": "stdout",
     "output_type": "stream",
     "text": [
      "{'cod': 401,\n",
      " 'message': 'Invalid API key. Please see '\n",
      "            'http://openweathermap.org/faq#error401 for more info.'}\n"
     ]
    }
   ],
   "source": [
    "### Perform API Calls\n",
    "\n",
    "# API call:\n",
    "\n",
    "query_url = 'http://history.openweathermap.org/data/2.5/history/city?lat={lat}&lon={lon}&type=hour&start={start}&end={end}&appid={4518f7dcad37f43c902e1338f55f60ec}'\n",
    "\n",
    "\n",
    "\n",
    "response = requests.get(query_url).json()\n",
    "\n",
    "pprint(response)"
   ]
  }
 ],
 "metadata": {
  "anaconda-cloud": {},
  "kernel_info": {
   "name": "python3"
  },
  "kernelspec": {
   "display_name": "Python 3.6.10 64-bit ('PythonData': conda)",
   "language": "python",
   "name": "python361064bitpythondataconda42b4411259a540dab88830aae798104f"
  },
  "language_info": {
   "codemirror_mode": {
    "name": "ipython",
    "version": 3
   },
   "file_extension": ".py",
   "mimetype": "text/x-python",
   "name": "python",
   "nbconvert_exporter": "python",
   "pygments_lexer": "ipython3",
   "version": "3.6.10"
  },
  "latex_envs": {
   "LaTeX_envs_menu_present": true,
   "autoclose": false,
   "autocomplete": true,
   "bibliofile": "biblio.bib",
   "cite_by": "apalike",
   "current_citInitial": 1,
   "eqLabelWithNumbers": true,
   "eqNumInitial": 1,
   "hotkeys": {
    "equation": "Ctrl-E",
    "itemize": "Ctrl-I"
   },
   "labels_anchors": false,
   "latex_user_defs": false,
   "report_style_numbering": false,
   "user_envs_cfg": false
  },
  "nteract": {
   "version": "0.12.3"
  }
 },
 "nbformat": 4,
 "nbformat_minor": 2
}
