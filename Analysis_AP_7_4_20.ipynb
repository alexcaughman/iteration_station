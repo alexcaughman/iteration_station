{
 "cells": [
  {
   "cell_type": "code",
   "execution_count": 1,
   "metadata": {},
   "outputs": [],
   "source": [
    "#import dependencies\n",
    "import csv\n",
    "import matplotlib.pyplot as plt\n",
    "import pandas as pd\n",
    "import gmaps\n",
    "# Import API key\n",
    "from api_keys import g_key\n",
    "import numpy as np"
   ]
  },
  {
   "cell_type": "code",
   "execution_count": 2,
   "metadata": {
    "scrolled": true
   },
   "outputs": [],
   "source": [
    "#read in all zipcode csvs\n",
    "Csvpath1 = \"Weather_Traffic_Resources/30312_weather_traffic_FINAL.csv\"\n",
    "Csvpath2 = \"Weather_Traffic_Resources/30339_weather_traffic_FINAL.csv\"\n",
    "Csvpath3 = \"Weather_Traffic_Resources/30331_weather_traffic_FINAL.csv\"\n",
    "Csvpath4 = \"Weather_Traffic_Resources/30315_weather_traffic_FINAL.csv\"\n",
    "Csvpath5 = \"Weather_Traffic_Resources/30309_weather_traffic_FINAL.csv\"\n",
    "Csvpath6 = \"Weather_Traffic_Resources/30340_weather_traffic_FINAL.csv\"\n",
    "Csvpath7 = \"Weather_Traffic_Resources/30308_weather_traffic_FINAL.csv\"\n",
    "Csvpath8 = \"Weather_Traffic_Resources/30324_weather_traffic_FINAL.csv\"\n",
    "Csvpath9 = \"Weather_Traffic_Resources/30342_weather_traffic_FINAL.csv\"\n",
    "Csvpath10 =\"Weather_Traffic_Resources/30318_weather_traffic_FINAL.csv\"\n",
    "\n",
    "zip_30312_df = pd.read_csv(Csvpath1)\n",
    "zip_30339_df = pd.read_csv(Csvpath2)\n",
    "zip_30331_df = pd.read_csv(Csvpath3)\n",
    "zip_30315_df = pd.read_csv(Csvpath4)\n",
    "zip_30309_df = pd.read_csv(Csvpath5)\n",
    "zip_30340_df = pd.read_csv(Csvpath6)\n",
    "zip_30308_df = pd.read_csv(Csvpath7)\n",
    "zip_30324_df = pd.read_csv(Csvpath8)\n",
    "zip_30342_df = pd.read_csv(Csvpath9)\n",
    "zip_30318_df = pd.read_csv(Csvpath10)"
   ]
  },
  {
   "cell_type": "code",
   "execution_count": 3,
   "metadata": {},
   "outputs": [
    {
     "data": {
      "text/html": [
       "<div>\n",
       "<style scoped>\n",
       "    .dataframe tbody tr th:only-of-type {\n",
       "        vertical-align: middle;\n",
       "    }\n",
       "\n",
       "    .dataframe tbody tr th {\n",
       "        vertical-align: top;\n",
       "    }\n",
       "\n",
       "    .dataframe thead th {\n",
       "        text-align: right;\n",
       "    }\n",
       "</style>\n",
       "<table border=\"1\" class=\"dataframe\">\n",
       "  <thead>\n",
       "    <tr style=\"text-align: right;\">\n",
       "      <th></th>\n",
       "      <th>Unnamed: 0</th>\n",
       "      <th>Location</th>\n",
       "      <th>Address</th>\n",
       "      <th>Country</th>\n",
       "      <th>Date</th>\n",
       "      <th>Maximum Temperature</th>\n",
       "      <th>Minimum Temperature</th>\n",
       "      <th>Temperature</th>\n",
       "      <th>Wind Chill</th>\n",
       "      <th>Heat Index</th>\n",
       "      <th>...</th>\n",
       "      <th>Relative Humidity</th>\n",
       "      <th>Conditions</th>\n",
       "      <th>Severity_1</th>\n",
       "      <th>Severity_2</th>\n",
       "      <th>Severity_3</th>\n",
       "      <th>Severity_4</th>\n",
       "      <th>Residential_ct</th>\n",
       "      <th>Interstate_ct</th>\n",
       "      <th>Accident_ct</th>\n",
       "      <th>Zipcode</th>\n",
       "    </tr>\n",
       "  </thead>\n",
       "  <tbody>\n",
       "    <tr>\n",
       "      <th>0</th>\n",
       "      <td>0</td>\n",
       "      <td>NaN</td>\n",
       "      <td>30312</td>\n",
       "      <td>USA</td>\n",
       "      <td>01/01/2019</td>\n",
       "      <td>65.1</td>\n",
       "      <td>56.4</td>\n",
       "      <td>61.5</td>\n",
       "      <td>NaN</td>\n",
       "      <td>NaN</td>\n",
       "      <td>...</td>\n",
       "      <td>90.30</td>\n",
       "      <td>Rain, Partially cloudy</td>\n",
       "      <td>0</td>\n",
       "      <td>0</td>\n",
       "      <td>2</td>\n",
       "      <td>0</td>\n",
       "      <td>1</td>\n",
       "      <td>1</td>\n",
       "      <td>2</td>\n",
       "      <td>30312</td>\n",
       "    </tr>\n",
       "    <tr>\n",
       "      <th>1</th>\n",
       "      <td>1</td>\n",
       "      <td>NaN</td>\n",
       "      <td>30312</td>\n",
       "      <td>USA</td>\n",
       "      <td>01/02/2019</td>\n",
       "      <td>57.0</td>\n",
       "      <td>49.0</td>\n",
       "      <td>52.4</td>\n",
       "      <td>46.3</td>\n",
       "      <td>NaN</td>\n",
       "      <td>...</td>\n",
       "      <td>91.80</td>\n",
       "      <td>Rain, Overcast</td>\n",
       "      <td>0</td>\n",
       "      <td>0</td>\n",
       "      <td>1</td>\n",
       "      <td>0</td>\n",
       "      <td>0</td>\n",
       "      <td>1</td>\n",
       "      <td>1</td>\n",
       "      <td>30312</td>\n",
       "    </tr>\n",
       "    <tr>\n",
       "      <th>2</th>\n",
       "      <td>2</td>\n",
       "      <td>NaN</td>\n",
       "      <td>30312</td>\n",
       "      <td>USA</td>\n",
       "      <td>01/03/2019</td>\n",
       "      <td>54.3</td>\n",
       "      <td>50.1</td>\n",
       "      <td>52.5</td>\n",
       "      <td>NaN</td>\n",
       "      <td>NaN</td>\n",
       "      <td>...</td>\n",
       "      <td>95.95</td>\n",
       "      <td>Rain, Overcast</td>\n",
       "      <td>0</td>\n",
       "      <td>2</td>\n",
       "      <td>2</td>\n",
       "      <td>0</td>\n",
       "      <td>1</td>\n",
       "      <td>3</td>\n",
       "      <td>4</td>\n",
       "      <td>30312</td>\n",
       "    </tr>\n",
       "    <tr>\n",
       "      <th>3</th>\n",
       "      <td>3</td>\n",
       "      <td>NaN</td>\n",
       "      <td>30312</td>\n",
       "      <td>USA</td>\n",
       "      <td>01/04/2019</td>\n",
       "      <td>64.8</td>\n",
       "      <td>45.1</td>\n",
       "      <td>54.5</td>\n",
       "      <td>40.1</td>\n",
       "      <td>NaN</td>\n",
       "      <td>...</td>\n",
       "      <td>86.19</td>\n",
       "      <td>Rain, Overcast</td>\n",
       "      <td>0</td>\n",
       "      <td>0</td>\n",
       "      <td>4</td>\n",
       "      <td>0</td>\n",
       "      <td>3</td>\n",
       "      <td>1</td>\n",
       "      <td>4</td>\n",
       "      <td>30312</td>\n",
       "    </tr>\n",
       "    <tr>\n",
       "      <th>11</th>\n",
       "      <td>11</td>\n",
       "      <td>NaN</td>\n",
       "      <td>30312</td>\n",
       "      <td>USA</td>\n",
       "      <td>01/12/2019</td>\n",
       "      <td>42.8</td>\n",
       "      <td>37.2</td>\n",
       "      <td>40.7</td>\n",
       "      <td>29.3</td>\n",
       "      <td>NaN</td>\n",
       "      <td>...</td>\n",
       "      <td>60.15</td>\n",
       "      <td>Rain, Overcast</td>\n",
       "      <td>0</td>\n",
       "      <td>0</td>\n",
       "      <td>3</td>\n",
       "      <td>0</td>\n",
       "      <td>1</td>\n",
       "      <td>2</td>\n",
       "      <td>3</td>\n",
       "      <td>30312</td>\n",
       "    </tr>\n",
       "    <tr>\n",
       "      <th>...</th>\n",
       "      <td>...</td>\n",
       "      <td>...</td>\n",
       "      <td>...</td>\n",
       "      <td>...</td>\n",
       "      <td>...</td>\n",
       "      <td>...</td>\n",
       "      <td>...</td>\n",
       "      <td>...</td>\n",
       "      <td>...</td>\n",
       "      <td>...</td>\n",
       "      <td>...</td>\n",
       "      <td>...</td>\n",
       "      <td>...</td>\n",
       "      <td>...</td>\n",
       "      <td>...</td>\n",
       "      <td>...</td>\n",
       "      <td>...</td>\n",
       "      <td>...</td>\n",
       "      <td>...</td>\n",
       "      <td>...</td>\n",
       "      <td>...</td>\n",
       "    </tr>\n",
       "    <tr>\n",
       "      <th>718</th>\n",
       "      <td>718</td>\n",
       "      <td>NaN</td>\n",
       "      <td>30312</td>\n",
       "      <td>Atlanta</td>\n",
       "      <td>12/20/2018</td>\n",
       "      <td>51.1</td>\n",
       "      <td>45.7</td>\n",
       "      <td>48.5</td>\n",
       "      <td>40.0</td>\n",
       "      <td>NaN</td>\n",
       "      <td>...</td>\n",
       "      <td>91.22</td>\n",
       "      <td>Rain, Overcast</td>\n",
       "      <td>0</td>\n",
       "      <td>0</td>\n",
       "      <td>0</td>\n",
       "      <td>3</td>\n",
       "      <td>2</td>\n",
       "      <td>1</td>\n",
       "      <td>3</td>\n",
       "      <td>30312</td>\n",
       "    </tr>\n",
       "    <tr>\n",
       "      <th>719</th>\n",
       "      <td>719</td>\n",
       "      <td>NaN</td>\n",
       "      <td>30312</td>\n",
       "      <td>Atlanta</td>\n",
       "      <td>12/21/2018</td>\n",
       "      <td>50.2</td>\n",
       "      <td>39.5</td>\n",
       "      <td>45.3</td>\n",
       "      <td>31.5</td>\n",
       "      <td>NaN</td>\n",
       "      <td>...</td>\n",
       "      <td>89.58</td>\n",
       "      <td>Rain, Overcast</td>\n",
       "      <td>0</td>\n",
       "      <td>3</td>\n",
       "      <td>0</td>\n",
       "      <td>0</td>\n",
       "      <td>2</td>\n",
       "      <td>1</td>\n",
       "      <td>3</td>\n",
       "      <td>30312</td>\n",
       "    </tr>\n",
       "    <tr>\n",
       "      <th>725</th>\n",
       "      <td>725</td>\n",
       "      <td>NaN</td>\n",
       "      <td>30312</td>\n",
       "      <td>Atlanta</td>\n",
       "      <td>12/27/2018</td>\n",
       "      <td>52.9</td>\n",
       "      <td>46.6</td>\n",
       "      <td>49.1</td>\n",
       "      <td>41.0</td>\n",
       "      <td>NaN</td>\n",
       "      <td>...</td>\n",
       "      <td>71.41</td>\n",
       "      <td>Rain, Overcast</td>\n",
       "      <td>0</td>\n",
       "      <td>0</td>\n",
       "      <td>0</td>\n",
       "      <td>0</td>\n",
       "      <td>0</td>\n",
       "      <td>0</td>\n",
       "      <td>0</td>\n",
       "      <td>30312</td>\n",
       "    </tr>\n",
       "    <tr>\n",
       "      <th>726</th>\n",
       "      <td>726</td>\n",
       "      <td>NaN</td>\n",
       "      <td>30312</td>\n",
       "      <td>Atlanta</td>\n",
       "      <td>12/28/2018</td>\n",
       "      <td>62.0</td>\n",
       "      <td>49.7</td>\n",
       "      <td>55.5</td>\n",
       "      <td>45.3</td>\n",
       "      <td>NaN</td>\n",
       "      <td>...</td>\n",
       "      <td>96.22</td>\n",
       "      <td>Rain, Overcast</td>\n",
       "      <td>0</td>\n",
       "      <td>2</td>\n",
       "      <td>4</td>\n",
       "      <td>0</td>\n",
       "      <td>2</td>\n",
       "      <td>4</td>\n",
       "      <td>6</td>\n",
       "      <td>30312</td>\n",
       "    </tr>\n",
       "    <tr>\n",
       "      <th>728</th>\n",
       "      <td>728</td>\n",
       "      <td>NaN</td>\n",
       "      <td>30312</td>\n",
       "      <td>Atlanta</td>\n",
       "      <td>12/30/2018</td>\n",
       "      <td>54.4</td>\n",
       "      <td>50.0</td>\n",
       "      <td>52.0</td>\n",
       "      <td>48.3</td>\n",
       "      <td>NaN</td>\n",
       "      <td>...</td>\n",
       "      <td>94.93</td>\n",
       "      <td>Rain, Overcast</td>\n",
       "      <td>0</td>\n",
       "      <td>0</td>\n",
       "      <td>2</td>\n",
       "      <td>0</td>\n",
       "      <td>0</td>\n",
       "      <td>2</td>\n",
       "      <td>2</td>\n",
       "      <td>30312</td>\n",
       "    </tr>\n",
       "  </tbody>\n",
       "</table>\n",
       "<p>228 rows × 25 columns</p>\n",
       "</div>"
      ],
      "text/plain": [
       "     Unnamed: 0  Location  Address   Country        Date  Maximum Temperature  \\\n",
       "0             0       NaN    30312       USA  01/01/2019                 65.1   \n",
       "1             1       NaN    30312       USA  01/02/2019                 57.0   \n",
       "2             2       NaN    30312       USA  01/03/2019                 54.3   \n",
       "3             3       NaN    30312       USA  01/04/2019                 64.8   \n",
       "11           11       NaN    30312       USA  01/12/2019                 42.8   \n",
       "..          ...       ...      ...       ...         ...                  ...   \n",
       "718         718       NaN    30312   Atlanta  12/20/2018                 51.1   \n",
       "719         719       NaN    30312   Atlanta  12/21/2018                 50.2   \n",
       "725         725       NaN    30312   Atlanta  12/27/2018                 52.9   \n",
       "726         726       NaN    30312   Atlanta  12/28/2018                 62.0   \n",
       "728         728       NaN    30312   Atlanta  12/30/2018                 54.4   \n",
       "\n",
       "     Minimum Temperature  Temperature  Wind Chill  Heat Index  ...  \\\n",
       "0                   56.4         61.5         NaN         NaN  ...   \n",
       "1                   49.0         52.4        46.3         NaN  ...   \n",
       "2                   50.1         52.5         NaN         NaN  ...   \n",
       "3                   45.1         54.5        40.1         NaN  ...   \n",
       "11                  37.2         40.7        29.3         NaN  ...   \n",
       "..                   ...          ...         ...         ...  ...   \n",
       "718                 45.7         48.5        40.0         NaN  ...   \n",
       "719                 39.5         45.3        31.5         NaN  ...   \n",
       "725                 46.6         49.1        41.0         NaN  ...   \n",
       "726                 49.7         55.5        45.3         NaN  ...   \n",
       "728                 50.0         52.0        48.3         NaN  ...   \n",
       "\n",
       "     Relative Humidity              Conditions  Severity_1  Severity_2  \\\n",
       "0                90.30  Rain, Partially cloudy           0           0   \n",
       "1                91.80          Rain, Overcast           0           0   \n",
       "2                95.95          Rain, Overcast           0           2   \n",
       "3                86.19          Rain, Overcast           0           0   \n",
       "11               60.15          Rain, Overcast           0           0   \n",
       "..                 ...                     ...         ...         ...   \n",
       "718              91.22          Rain, Overcast           0           0   \n",
       "719              89.58          Rain, Overcast           0           3   \n",
       "725              71.41          Rain, Overcast           0           0   \n",
       "726              96.22          Rain, Overcast           0           2   \n",
       "728              94.93          Rain, Overcast           0           0   \n",
       "\n",
       "     Severity_3  Severity_4 Residential_ct  Interstate_ct  Accident_ct  \\\n",
       "0             2           0              1              1            2   \n",
       "1             1           0              0              1            1   \n",
       "2             2           0              1              3            4   \n",
       "3             4           0              3              1            4   \n",
       "11            3           0              1              2            3   \n",
       "..          ...         ...            ...            ...          ...   \n",
       "718           0           3              2              1            3   \n",
       "719           0           0              2              1            3   \n",
       "725           0           0              0              0            0   \n",
       "726           4           0              2              4            6   \n",
       "728           2           0              0              2            2   \n",
       "\n",
       "     Zipcode  \n",
       "0      30312  \n",
       "1      30312  \n",
       "2      30312  \n",
       "3      30312  \n",
       "11     30312  \n",
       "..       ...  \n",
       "718    30312  \n",
       "719    30312  \n",
       "725    30312  \n",
       "726    30312  \n",
       "728    30312  \n",
       "\n",
       "[228 rows x 25 columns]"
      ]
     },
     "execution_count": 3,
     "metadata": {},
     "output_type": "execute_result"
    }
   ],
   "source": [
    "zip_30312_df_reduced = zip_30312_df.loc[(zip_30312_df[\"Precipitation\"]>0),:]\n",
    "zip_30312_df_reduced"
   ]
  },
  {
   "cell_type": "code",
   "execution_count": 4,
   "metadata": {},
   "outputs": [
    {
     "data": {
      "text/plain": [
       "<matplotlib.axes._subplots.AxesSubplot at 0x1705fdf1c88>"
      ]
     },
     "execution_count": 4,
     "metadata": {},
     "output_type": "execute_result"
    },
    {
     "data": {
      "image/png": "[encoded data removed]",
      "text/plain": [
       "<Figure size 432x288 with 1 Axes>"
      ]
     },
     "metadata": {
      "needs_background": "light"
     },
     "output_type": "display_data"
    }
   ],
   "source": [
    "zip_30312_df_reduced.plot.scatter('Maximum Temperature', 'Accident_ct')"
   ]
  },
  {
   "cell_type": "code",
   "execution_count": 5,
   "metadata": {},
   "outputs": [
    {
     "data": {
      "text/plain": [
       "Text(0, 0.5, 'Sum of accidents')"
      ]
     },
     "execution_count": 5,
     "metadata": {},
     "output_type": "execute_result"
    },
    {
     "data": {
      "image/png": "[encoded data removed]",
      "text/plain": [
       "<Figure size 432x288 with 1 Axes>"
      ]
     },
     "metadata": {
      "needs_background": "light"
     },
     "output_type": "display_data"
    }
   ],
   "source": [
    "x = zip_30312_df_reduced[\"Precipitation\"]\n",
    "y1 = zip_30312_df_reduced[\"Severity_1\"]\n",
    "y2 = zip_30312_df_reduced[\"Severity_2\"]\n",
    "y3 = zip_30312_df_reduced[\"Severity_3\"]\n",
    "y4 = zip_30312_df_reduced[\"Severity_4\"]\n",
    "plt.scatter(x,y1,color='green', label = \"Severity 1\")\n",
    "plt.scatter(x,y2,color='blue',label = \"Severity 2\")\n",
    "plt.scatter(x,y3,color='orange',label = \"Severity 3\")\n",
    "plt.scatter(x,y4,color='red',label = \"Severity 4\")\n",
    "plt.legend(loc = 'upper right')\n",
    "plt.xlabel(\"Precipitation\")\n",
    "plt.ylabel(\"Sum of accidents\")"
   ]
  },
  {
   "cell_type": "code",
   "execution_count": 6,
   "metadata": {},
   "outputs": [],
   "source": [
    "zip_30312_df_reduced_hum = zip_30312_df.loc[zip_30312_df[\"Relative Humidity\"]>75,:]"
   ]
  },
  {
   "cell_type": "code",
   "execution_count": 7,
   "metadata": {},
   "outputs": [
    {
     "data": {
      "text/plain": [
       "Text(0, 0.5, 'Sum of accidents')"
      ]
     },
     "execution_count": 7,
     "metadata": {},
     "output_type": "execute_result"
    },
    {
     "data": {
      "image/png": "[encoded data removed]",
      "text/plain": [
       "<Figure size 432x288 with 1 Axes>"
      ]
     },
     "metadata": {
      "needs_background": "light"
     },
     "output_type": "display_data"
    }
   ],
   "source": [
    "x_hum = zip_30312_df_reduced_hum[\"Relative Humidity\"]\n",
    "y1_hum = zip_30312_df_reduced_hum[\"Severity_1\"]\n",
    "y2_hum = zip_30312_df_reduced_hum[\"Severity_2\"]\n",
    "y3_hum = zip_30312_df_reduced_hum[\"Severity_3\"]\n",
    "y4_hum = zip_30312_df_reduced_hum[\"Severity_4\"]\n",
    "plt.scatter(x_hum,y1_hum,color='green', label = \"Severity 1\")\n",
    "plt.scatter(x_hum,y2_hum,color='blue',label = \"Severity 2\")\n",
    "plt.scatter(x_hum,y3_hum,color='orange',label = \"Severity 3\")\n",
    "plt.scatter(x_hum,y4_hum,color='red',label = \"Severity 4\")\n",
    "plt.legend(loc = 'upper right')\n",
    "plt.xlabel(\"Relative Humidity\")\n",
    "plt.ylabel(\"Sum of accidents\")"
   ]
  },
  {
   "cell_type": "code",
   "execution_count": 8,
   "metadata": {},
   "outputs": [
    {
     "data": {
      "text/html": [
       "<div>\n",
       "<style scoped>\n",
       "    .dataframe tbody tr th:only-of-type {\n",
       "        vertical-align: middle;\n",
       "    }\n",
       "\n",
       "    .dataframe tbody tr th {\n",
       "        vertical-align: top;\n",
       "    }\n",
       "\n",
       "    .dataframe thead th {\n",
       "        text-align: right;\n",
       "    }\n",
       "</style>\n",
       "<table border=\"1\" class=\"dataframe\">\n",
       "  <thead>\n",
       "    <tr style=\"text-align: right;\">\n",
       "      <th></th>\n",
       "      <th>Unnamed: 0</th>\n",
       "      <th>Location</th>\n",
       "      <th>Address</th>\n",
       "      <th>Country</th>\n",
       "      <th>Date</th>\n",
       "      <th>Maximum Temperature</th>\n",
       "      <th>Minimum Temperature</th>\n",
       "      <th>Temperature</th>\n",
       "      <th>Wind Chill</th>\n",
       "      <th>Heat Index</th>\n",
       "      <th>...</th>\n",
       "      <th>Relative Humidity</th>\n",
       "      <th>Conditions</th>\n",
       "      <th>Severity_1</th>\n",
       "      <th>Severity_2</th>\n",
       "      <th>Severity_3</th>\n",
       "      <th>Severity_4</th>\n",
       "      <th>Residential_ct</th>\n",
       "      <th>Interstate_ct</th>\n",
       "      <th>Accident_ct</th>\n",
       "      <th>Zipcode</th>\n",
       "    </tr>\n",
       "  </thead>\n",
       "  <tbody>\n",
       "    <tr>\n",
       "      <th>4</th>\n",
       "      <td>4</td>\n",
       "      <td>NaN</td>\n",
       "      <td>30312</td>\n",
       "      <td>USA</td>\n",
       "      <td>01/05/2019</td>\n",
       "      <td>57.8</td>\n",
       "      <td>43.7</td>\n",
       "      <td>48.8</td>\n",
       "      <td>36.4</td>\n",
       "      <td>NaN</td>\n",
       "      <td>...</td>\n",
       "      <td>64.92</td>\n",
       "      <td>Partially cloudy</td>\n",
       "      <td>0</td>\n",
       "      <td>0</td>\n",
       "      <td>2</td>\n",
       "      <td>0</td>\n",
       "      <td>1</td>\n",
       "      <td>1</td>\n",
       "      <td>2</td>\n",
       "      <td>30312</td>\n",
       "    </tr>\n",
       "    <tr>\n",
       "      <th>5</th>\n",
       "      <td>5</td>\n",
       "      <td>NaN</td>\n",
       "      <td>30312</td>\n",
       "      <td>USA</td>\n",
       "      <td>01/06/2019</td>\n",
       "      <td>68.5</td>\n",
       "      <td>41.6</td>\n",
       "      <td>52.8</td>\n",
       "      <td>38.2</td>\n",
       "      <td>NaN</td>\n",
       "      <td>...</td>\n",
       "      <td>62.19</td>\n",
       "      <td>Clear</td>\n",
       "      <td>0</td>\n",
       "      <td>1</td>\n",
       "      <td>2</td>\n",
       "      <td>0</td>\n",
       "      <td>2</td>\n",
       "      <td>1</td>\n",
       "      <td>3</td>\n",
       "      <td>30312</td>\n",
       "    </tr>\n",
       "    <tr>\n",
       "      <th>6</th>\n",
       "      <td>6</td>\n",
       "      <td>NaN</td>\n",
       "      <td>30312</td>\n",
       "      <td>USA</td>\n",
       "      <td>01/07/2019</td>\n",
       "      <td>67.9</td>\n",
       "      <td>40.8</td>\n",
       "      <td>53.3</td>\n",
       "      <td>45.1</td>\n",
       "      <td>NaN</td>\n",
       "      <td>...</td>\n",
       "      <td>67.52</td>\n",
       "      <td>Partially cloudy</td>\n",
       "      <td>0</td>\n",
       "      <td>0</td>\n",
       "      <td>0</td>\n",
       "      <td>0</td>\n",
       "      <td>0</td>\n",
       "      <td>0</td>\n",
       "      <td>0</td>\n",
       "      <td>30312</td>\n",
       "    </tr>\n",
       "    <tr>\n",
       "      <th>7</th>\n",
       "      <td>7</td>\n",
       "      <td>NaN</td>\n",
       "      <td>30312</td>\n",
       "      <td>USA</td>\n",
       "      <td>01/08/2019</td>\n",
       "      <td>64.5</td>\n",
       "      <td>48.9</td>\n",
       "      <td>56.1</td>\n",
       "      <td>48.1</td>\n",
       "      <td>NaN</td>\n",
       "      <td>...</td>\n",
       "      <td>77.43</td>\n",
       "      <td>Partially cloudy</td>\n",
       "      <td>0</td>\n",
       "      <td>4</td>\n",
       "      <td>1</td>\n",
       "      <td>0</td>\n",
       "      <td>3</td>\n",
       "      <td>2</td>\n",
       "      <td>5</td>\n",
       "      <td>30312</td>\n",
       "    </tr>\n",
       "    <tr>\n",
       "      <th>8</th>\n",
       "      <td>8</td>\n",
       "      <td>NaN</td>\n",
       "      <td>30312</td>\n",
       "      <td>USA</td>\n",
       "      <td>01/09/2019</td>\n",
       "      <td>56.1</td>\n",
       "      <td>39.3</td>\n",
       "      <td>46.7</td>\n",
       "      <td>30.3</td>\n",
       "      <td>NaN</td>\n",
       "      <td>...</td>\n",
       "      <td>41.08</td>\n",
       "      <td>Clear</td>\n",
       "      <td>0</td>\n",
       "      <td>2</td>\n",
       "      <td>2</td>\n",
       "      <td>0</td>\n",
       "      <td>1</td>\n",
       "      <td>3</td>\n",
       "      <td>4</td>\n",
       "      <td>30312</td>\n",
       "    </tr>\n",
       "    <tr>\n",
       "      <th>...</th>\n",
       "      <td>...</td>\n",
       "      <td>...</td>\n",
       "      <td>...</td>\n",
       "      <td>...</td>\n",
       "      <td>...</td>\n",
       "      <td>...</td>\n",
       "      <td>...</td>\n",
       "      <td>...</td>\n",
       "      <td>...</td>\n",
       "      <td>...</td>\n",
       "      <td>...</td>\n",
       "      <td>...</td>\n",
       "      <td>...</td>\n",
       "      <td>...</td>\n",
       "      <td>...</td>\n",
       "      <td>...</td>\n",
       "      <td>...</td>\n",
       "      <td>...</td>\n",
       "      <td>...</td>\n",
       "      <td>...</td>\n",
       "      <td>...</td>\n",
       "    </tr>\n",
       "    <tr>\n",
       "      <th>722</th>\n",
       "      <td>722</td>\n",
       "      <td>NaN</td>\n",
       "      <td>30312</td>\n",
       "      <td>Atlanta</td>\n",
       "      <td>12/24/2018</td>\n",
       "      <td>52.0</td>\n",
       "      <td>33.7</td>\n",
       "      <td>42.1</td>\n",
       "      <td>27.2</td>\n",
       "      <td>NaN</td>\n",
       "      <td>...</td>\n",
       "      <td>69.80</td>\n",
       "      <td>Clear</td>\n",
       "      <td>0</td>\n",
       "      <td>0</td>\n",
       "      <td>2</td>\n",
       "      <td>0</td>\n",
       "      <td>1</td>\n",
       "      <td>1</td>\n",
       "      <td>2</td>\n",
       "      <td>30312</td>\n",
       "    </tr>\n",
       "    <tr>\n",
       "      <th>723</th>\n",
       "      <td>723</td>\n",
       "      <td>NaN</td>\n",
       "      <td>30312</td>\n",
       "      <td>Atlanta</td>\n",
       "      <td>12/25/2018</td>\n",
       "      <td>56.6</td>\n",
       "      <td>30.4</td>\n",
       "      <td>43.5</td>\n",
       "      <td>38.5</td>\n",
       "      <td>NaN</td>\n",
       "      <td>...</td>\n",
       "      <td>67.35</td>\n",
       "      <td>Partially cloudy</td>\n",
       "      <td>0</td>\n",
       "      <td>0</td>\n",
       "      <td>2</td>\n",
       "      <td>0</td>\n",
       "      <td>1</td>\n",
       "      <td>1</td>\n",
       "      <td>2</td>\n",
       "      <td>30312</td>\n",
       "    </tr>\n",
       "    <tr>\n",
       "      <th>724</th>\n",
       "      <td>724</td>\n",
       "      <td>NaN</td>\n",
       "      <td>30312</td>\n",
       "      <td>Atlanta</td>\n",
       "      <td>12/26/2018</td>\n",
       "      <td>57.9</td>\n",
       "      <td>36.6</td>\n",
       "      <td>47.1</td>\n",
       "      <td>34.2</td>\n",
       "      <td>NaN</td>\n",
       "      <td>...</td>\n",
       "      <td>69.09</td>\n",
       "      <td>Partially cloudy</td>\n",
       "      <td>0</td>\n",
       "      <td>1</td>\n",
       "      <td>1</td>\n",
       "      <td>0</td>\n",
       "      <td>1</td>\n",
       "      <td>1</td>\n",
       "      <td>2</td>\n",
       "      <td>30312</td>\n",
       "    </tr>\n",
       "    <tr>\n",
       "      <th>727</th>\n",
       "      <td>727</td>\n",
       "      <td>NaN</td>\n",
       "      <td>30312</td>\n",
       "      <td>Atlanta</td>\n",
       "      <td>12/29/2018</td>\n",
       "      <td>59.6</td>\n",
       "      <td>46.1</td>\n",
       "      <td>52.2</td>\n",
       "      <td>44.5</td>\n",
       "      <td>NaN</td>\n",
       "      <td>...</td>\n",
       "      <td>82.07</td>\n",
       "      <td>Partially cloudy</td>\n",
       "      <td>0</td>\n",
       "      <td>0</td>\n",
       "      <td>2</td>\n",
       "      <td>0</td>\n",
       "      <td>0</td>\n",
       "      <td>2</td>\n",
       "      <td>2</td>\n",
       "      <td>30312</td>\n",
       "    </tr>\n",
       "    <tr>\n",
       "      <th>729</th>\n",
       "      <td>729</td>\n",
       "      <td>NaN</td>\n",
       "      <td>30312</td>\n",
       "      <td>Atlanta</td>\n",
       "      <td>12/31/2018</td>\n",
       "      <td>69.4</td>\n",
       "      <td>54.4</td>\n",
       "      <td>61.4</td>\n",
       "      <td>NaN</td>\n",
       "      <td>NaN</td>\n",
       "      <td>...</td>\n",
       "      <td>91.32</td>\n",
       "      <td>Overcast</td>\n",
       "      <td>0</td>\n",
       "      <td>0</td>\n",
       "      <td>1</td>\n",
       "      <td>0</td>\n",
       "      <td>0</td>\n",
       "      <td>1</td>\n",
       "      <td>1</td>\n",
       "      <td>30312</td>\n",
       "    </tr>\n",
       "  </tbody>\n",
       "</table>\n",
       "<p>502 rows × 25 columns</p>\n",
       "</div>"
      ],
      "text/plain": [
       "     Unnamed: 0  Location  Address   Country        Date  Maximum Temperature  \\\n",
       "4             4       NaN    30312       USA  01/05/2019                 57.8   \n",
       "5             5       NaN    30312       USA  01/06/2019                 68.5   \n",
       "6             6       NaN    30312       USA  01/07/2019                 67.9   \n",
       "7             7       NaN    30312       USA  01/08/2019                 64.5   \n",
       "8             8       NaN    30312       USA  01/09/2019                 56.1   \n",
       "..          ...       ...      ...       ...         ...                  ...   \n",
       "722         722       NaN    30312   Atlanta  12/24/2018                 52.0   \n",
       "723         723       NaN    30312   Atlanta  12/25/2018                 56.6   \n",
       "724         724       NaN    30312   Atlanta  12/26/2018                 57.9   \n",
       "727         727       NaN    30312   Atlanta  12/29/2018                 59.6   \n",
       "729         729       NaN    30312   Atlanta  12/31/2018                 69.4   \n",
       "\n",
       "     Minimum Temperature  Temperature  Wind Chill  Heat Index  ...  \\\n",
       "4                   43.7         48.8        36.4         NaN  ...   \n",
       "5                   41.6         52.8        38.2         NaN  ...   \n",
       "6                   40.8         53.3        45.1         NaN  ...   \n",
       "7                   48.9         56.1        48.1         NaN  ...   \n",
       "8                   39.3         46.7        30.3         NaN  ...   \n",
       "..                   ...          ...         ...         ...  ...   \n",
       "722                 33.7         42.1        27.2         NaN  ...   \n",
       "723                 30.4         43.5        38.5         NaN  ...   \n",
       "724                 36.6         47.1        34.2         NaN  ...   \n",
       "727                 46.1         52.2        44.5         NaN  ...   \n",
       "729                 54.4         61.4         NaN         NaN  ...   \n",
       "\n",
       "     Relative Humidity        Conditions  Severity_1  Severity_2  Severity_3  \\\n",
       "4                64.92  Partially cloudy           0           0           2   \n",
       "5                62.19             Clear           0           1           2   \n",
       "6                67.52  Partially cloudy           0           0           0   \n",
       "7                77.43  Partially cloudy           0           4           1   \n",
       "8                41.08             Clear           0           2           2   \n",
       "..                 ...               ...         ...         ...         ...   \n",
       "722              69.80             Clear           0           0           2   \n",
       "723              67.35  Partially cloudy           0           0           2   \n",
       "724              69.09  Partially cloudy           0           1           1   \n",
       "727              82.07  Partially cloudy           0           0           2   \n",
       "729              91.32          Overcast           0           0           1   \n",
       "\n",
       "     Severity_4 Residential_ct  Interstate_ct  Accident_ct  Zipcode  \n",
       "4             0              1              1            2    30312  \n",
       "5             0              2              1            3    30312  \n",
       "6             0              0              0            0    30312  \n",
       "7             0              3              2            5    30312  \n",
       "8             0              1              3            4    30312  \n",
       "..          ...            ...            ...          ...      ...  \n",
       "722           0              1              1            2    30312  \n",
       "723           0              1              1            2    30312  \n",
       "724           0              1              1            2    30312  \n",
       "727           0              0              2            2    30312  \n",
       "729           0              0              1            1    30312  \n",
       "\n",
       "[502 rows x 25 columns]"
      ]
     },
     "execution_count": 8,
     "metadata": {},
     "output_type": "execute_result"
    }
   ],
   "source": [
    "zip_30312_df_baseline = zip_30312_df.loc[(zip_30312_df[\"Precipitation\"]==0),:]\n",
    "zip_30312_df_baseline"
   ]
  },
  {
   "cell_type": "code",
   "execution_count": 9,
   "metadata": {
    "scrolled": true
   },
   "outputs": [],
   "source": [
    "# x1 = zip_30312_df_baseline[\"Accident_ct\"]\n",
    "# x2 = x1.fillna(0)\n",
    "# x3 = zip_30312_df_reduced[\"Accident_ct\"]\n",
    "# flierprops = dict(marker='s', markerfacecolor='red', markersize=12)\n",
    "# plt.boxplot ([x2,x3], labels = ['baseline','Precipitation'], flierprops = flierprops, showmeans=True)\n"
   ]
  },
  {
   "cell_type": "code",
   "execution_count": 10,
   "metadata": {},
   "outputs": [
    {
     "data": {
      "image/png": "[encoded data removed]",
      "text/plain": [
       "<Figure size 432x288 with 1 Axes>"
      ]
     },
     "metadata": {
      "needs_background": "light"
     },
     "output_type": "display_data"
    }
   ],
   "source": [
    "#30312 boxplots\n",
    "zip_30312_df_reduced = zip_30312_df.loc[(zip_30312_df[\"Precipitation\"]>0),:]\n",
    "zip_30312_df_baseline = zip_30312_df.loc[(zip_30312_df[\"Precipitation\"]==0),:]\n",
    "low_precip_30312 = zip_30312_df_reduced.loc[zip_30312_df_reduced[\"Precipitation\"]<1,:]\n",
    "med_precip_30312 = zip_30312_df_reduced.loc[(zip_30312_df_reduced[\"Precipitation\"]>=1)\n",
    "                                  &(zip_30312_df_reduced[\"Precipitation\"]<2),:]\n",
    "high_precip_30312 = zip_30312_df_reduced.loc[zip_30312_df_reduced[\"Precipitation\"]>=2,:]\n",
    "\n",
    "x1_30312 = zip_30312_df_baseline[\"Accident_ct\"]\n",
    "x2_30312 = low_precip_30312[\"Accident_ct\"]\n",
    "x3_30312 = med_precip_30312[\"Accident_ct\"]\n",
    "x4_30312 = high_precip_30312[\"Accident_ct\"]\n",
    "flierprops = dict(marker='s', markerfacecolor='red', markersize=12)\n",
    "plt.boxplot ([x1_30312,x2_30312,x3_30312,x4_30312], labels = ['0 in - Baseline','<1in','1-2in','>2in'], flierprops = flierprops, showmeans=True)\n",
    "plt.title(\"30312 Accident Breakdown\", fontsize = 20)\n",
    "plt.xticks(rotation = 45, fontsize= 15)\n",
    "plt.yticks(fontsize = 15)\n",
    "# sum_precip = x1_30312.sum()+x2_30312.sum()+x3_30312.sum()+x4_30312.sum()\n",
    "# sum_precip\n",
    "\n",
    "plt.ylabel(\"Number of Accidents\", fontsize = 15)\n",
    "plt.xlabel(\"Precipitation Level\", fontsize = 15)\n",
    "\n",
    "plt.savefig(\"Images/30312_Precip_Boxplot.png\")"
   ]
  },
  {
   "cell_type": "code",
   "execution_count": 11,
   "metadata": {},
   "outputs": [
    {
     "data": {
      "text/plain": [
       "Text(0.5, 1.0, '30315 Accident Breakdown')"
      ]
     },
     "execution_count": 11,
     "metadata": {},
     "output_type": "execute_result"
    },
    {
     "data": {
      "image/png": "[encoded data removed]",
      "text/plain": [
       "<Figure size 432x288 with 1 Axes>"
      ]
     },
     "metadata": {
      "needs_background": "light"
     },
     "output_type": "display_data"
    }
   ],
   "source": [
    "#30315 boxplots\n",
    "zip_30315_df_reduced = zip_30315_df.loc[(zip_30315_df[\"Precipitation\"]>0),:]\n",
    "zip_30315_df_baseline = zip_30315_df.loc[(zip_30315_df[\"Precipitation\"]==0),:]\n",
    "low_precip_30315 = zip_30315_df_reduced.loc[zip_30315_df_reduced[\"Precipitation\"]<1,:]\n",
    "med_precip_30315 = zip_30315_df_reduced.loc[(zip_30315_df_reduced[\"Precipitation\"]>=1)\n",
    "                                  &(zip_30315_df_reduced[\"Precipitation\"]<2),:]\n",
    "high_precip_30315 = zip_30315_df_reduced.loc[zip_30315_df_reduced[\"Precipitation\"]>=2,:]\n",
    "\n",
    "x1_30315 = zip_30315_df_baseline[\"Accident_ct\"]\n",
    "x2_30315 = low_precip_30315[\"Accident_ct\"]\n",
    "x3_30315 = med_precip_30315[\"Accident_ct\"]\n",
    "x4_30315 = high_precip_30315[\"Accident_ct\"]\n",
    "flierprops = dict(marker='s', markerfacecolor='red', markersize=12)\n",
    "plt.boxplot ([x1_30315,x2_30315,x3_30315,x4_30315], labels = ['Baseline','Low Precip','Med Precip','High Precip'], flierprops = flierprops, showmeans=True)\n",
    "plt.title(\"30315 Accident Breakdown\")\n"
   ]
  },
  {
   "cell_type": "code",
   "execution_count": 12,
   "metadata": {},
   "outputs": [
    {
     "data": {
      "text/plain": [
       "Text(0.5, 1.0, '30339 Accident Breakdown')"
      ]
     },
     "execution_count": 12,
     "metadata": {},
     "output_type": "execute_result"
    },
    {
     "data": {
      "image/png": "[encoded data removed]",
      "text/plain": [
       "<Figure size 432x288 with 1 Axes>"
      ]
     },
     "metadata": {
      "needs_background": "light"
     },
     "output_type": "display_data"
    }
   ],
   "source": [
    "#30339 boxplots\n",
    "zip_30339_df_reduced = zip_30339_df.loc[(zip_30339_df[\"Precipitation\"]>0),:]\n",
    "zip_30339_df_baseline = zip_30339_df.loc[(zip_30339_df[\"Precipitation\"]==0),:]\n",
    "low_precip_30339 = zip_30339_df_reduced.loc[zip_30339_df_reduced[\"Precipitation\"]<1,:]\n",
    "med_precip_30339 = zip_30339_df_reduced.loc[(zip_30339_df_reduced[\"Precipitation\"]>=1)\n",
    "                                  &(zip_30339_df_reduced[\"Precipitation\"]<2),:]\n",
    "high_precip_30339 = zip_30339_df_reduced.loc[zip_30339_df_reduced[\"Precipitation\"]>=2,:]\n",
    "\n",
    "x1_30339 = zip_30339_df_baseline[\"Accident_ct\"]\n",
    "x2_30339 = low_precip_30339[\"Accident_ct\"]\n",
    "x3_30339 = med_precip_30339[\"Accident_ct\"]\n",
    "x4_30339 = high_precip_30339[\"Accident_ct\"]\n",
    "flierprops = dict(marker='s', markerfacecolor='red', markersize=12)\n",
    "plt.boxplot ([x1_30339,x2_30339,x3_30339,x4_30339], labels = ['Baseline','Low Precip','Med Precip','High Precip'], flierprops = flierprops, showmeans=True)\n",
    "plt.title(\"30339 Accident Breakdown\")\n"
   ]
  },
  {
   "cell_type": "code",
   "execution_count": 13,
   "metadata": {},
   "outputs": [
    {
     "data": {
      "text/plain": [
       "Text(0.5, 1.0, '30331 Accident Breakdown')"
      ]
     },
     "execution_count": 13,
     "metadata": {},
     "output_type": "execute_result"
    },
    {
     "data": {
      "image/png": "[encoded data removed]",
      "text/plain": [
       "<Figure size 432x288 with 1 Axes>"
      ]
     },
     "metadata": {
      "needs_background": "light"
     },
     "output_type": "display_data"
    }
   ],
   "source": [
    "#30331 boxplots\n",
    "zip_30331_df_reduced = zip_30331_df.loc[(zip_30331_df[\"Precipitation\"]>0),:]\n",
    "zip_30331_df_baseline = zip_30331_df.loc[(zip_30331_df[\"Precipitation\"]==0),:]\n",
    "low_precip_30331 = zip_30331_df_reduced.loc[zip_30331_df_reduced[\"Precipitation\"]<1,:]\n",
    "med_precip_30331 = zip_30331_df_reduced.loc[(zip_30331_df_reduced[\"Precipitation\"]>=1)\n",
    "                                  &(zip_30331_df_reduced[\"Precipitation\"]<2),:]\n",
    "high_precip_30331 = zip_30331_df_reduced.loc[zip_30331_df_reduced[\"Precipitation\"]>=2,:]\n",
    "\n",
    "x1_30331 = zip_30331_df_baseline[\"Accident_ct\"]\n",
    "x2_30331 = low_precip_30331[\"Accident_ct\"]\n",
    "x3_30331 = med_precip_30331[\"Accident_ct\"]\n",
    "x4_30331 = high_precip_30331[\"Accident_ct\"]\n",
    "flierprops = dict(marker='s', markerfacecolor='red', markersize=12)\n",
    "plt.boxplot ([x1_30331,x2_30331,x3_30331,x4_30331], labels = ['Baseline','Low Precip','Med Precip','High Precip'], flierprops = flierprops, showmeans=True)\n",
    "plt.title(\"30331 Accident Breakdown\")\n"
   ]
  },
  {
   "cell_type": "code",
   "execution_count": 14,
   "metadata": {},
   "outputs": [
    {
     "data": {
      "text/plain": [
       "Text(0.5, 1.0, '30309 Accident Breakdown')"
      ]
     },
     "execution_count": 14,
     "metadata": {},
     "output_type": "execute_result"
    },
    {
     "data": {
      "image/png": "[encoded data removed]",
      "text/plain": [
       "<Figure size 432x288 with 1 Axes>"
      ]
     },
     "metadata": {
      "needs_background": "light"
     },
     "output_type": "display_data"
    }
   ],
   "source": [
    "#30309 boxplots\n",
    "zip_30309_df_reduced = zip_30309_df.loc[(zip_30309_df[\"Precipitation\"]>0),:]\n",
    "zip_30309_df_baseline = zip_30309_df.loc[(zip_30309_df[\"Precipitation\"]==0),:]\n",
    "low_precip_30309 = zip_30309_df_reduced.loc[zip_30309_df_reduced[\"Precipitation\"]<1,:]\n",
    "med_precip_30309 = zip_30309_df_reduced.loc[(zip_30309_df_reduced[\"Precipitation\"]>=1)\n",
    "                                  &(zip_30309_df_reduced[\"Precipitation\"]<2),:]\n",
    "high_precip_30309 = zip_30309_df_reduced.loc[zip_30309_df_reduced[\"Precipitation\"]>=2,:]\n",
    "\n",
    "x1_30309 = zip_30309_df_baseline[\"Accident_ct\"]\n",
    "x2_30309 = low_precip_30309[\"Accident_ct\"]\n",
    "x3_30309 = med_precip_30309[\"Accident_ct\"]\n",
    "x4_30309 = high_precip_30309[\"Accident_ct\"]\n",
    "flierprops = dict(marker='s', markerfacecolor='red', markersize=12)\n",
    "plt.boxplot ([x1_30309,x2_30309,x3_30309,x4_30309], labels = ['Baseline','Low Precip','Med Precip','High Precip'], flierprops = flierprops, showmeans=True)\n",
    "plt.title(\"30309 Accident Breakdown\")\n"
   ]
  },
  {
   "cell_type": "code",
   "execution_count": 15,
   "metadata": {},
   "outputs": [
    {
     "data": {
      "text/plain": [
       "Text(0.5, 1.0, '30340 Accident Breakdown')"
      ]
     },
     "execution_count": 15,
     "metadata": {},
     "output_type": "execute_result"
    },
    {
     "data": {
      "image/png": "[encoded data removed]",
      "text/plain": [
       "<Figure size 432x288 with 1 Axes>"
      ]
     },
     "metadata": {
      "needs_background": "light"
     },
     "output_type": "display_data"
    }
   ],
   "source": [
    "#30340 boxplots\n",
    "zip_30340_df_reduced = zip_30340_df.loc[(zip_30340_df[\"Precipitation\"]>0),:]\n",
    "zip_30340_df_baseline = zip_30340_df.loc[(zip_30340_df[\"Precipitation\"]==0),:]\n",
    "low_precip_30340 = zip_30340_df_reduced.loc[zip_30340_df_reduced[\"Precipitation\"]<1,:]\n",
    "med_precip_30340 = zip_30340_df_reduced.loc[(zip_30340_df_reduced[\"Precipitation\"]>=1)\n",
    "                                  &(zip_30340_df_reduced[\"Precipitation\"]<2),:]\n",
    "high_precip_30340 = zip_30340_df_reduced.loc[zip_30340_df_reduced[\"Precipitation\"]>=2,:]\n",
    "\n",
    "x1_30340 = zip_30340_df_baseline[\"Accident_ct\"]\n",
    "x2_30340 = low_precip_30340[\"Accident_ct\"]\n",
    "x3_30340 = med_precip_30340[\"Accident_ct\"]\n",
    "x4_30340 = high_precip_30340[\"Accident_ct\"]\n",
    "flierprops = dict(marker='s', markerfacecolor='red', markersize=12)\n",
    "plt.boxplot ([x1_30340,x2_30340,x3_30340,x4_30340], labels = ['Baseline','Low Precip','Med Precip','High Precip'], flierprops = flierprops, showmeans=True)\n",
    "plt.title(\"30340 Accident Breakdown\")\n"
   ]
  },
  {
   "cell_type": "code",
   "execution_count": 16,
   "metadata": {},
   "outputs": [
    {
     "data": {
      "text/plain": [
       "Text(0.5, 1.0, '30308 Accident Breakdown')"
      ]
     },
     "execution_count": 16,
     "metadata": {},
     "output_type": "execute_result"
    },
    {
     "data": {
      "image/png": "[encoded data removed]",
      "text/plain": [
       "<Figure size 432x288 with 1 Axes>"
      ]
     },
     "metadata": {
      "needs_background": "light"
     },
     "output_type": "display_data"
    }
   ],
   "source": [
    "#30308 boxplots\n",
    "zip_30308_df_reduced = zip_30308_df.loc[(zip_30308_df[\"Precipitation\"]>0),:]\n",
    "zip_30308_df_baseline = zip_30308_df.loc[(zip_30308_df[\"Precipitation\"]==0),:]\n",
    "low_precip_30308 = zip_30308_df_reduced.loc[zip_30308_df_reduced[\"Precipitation\"]<1,:]\n",
    "med_precip_30308 = zip_30308_df_reduced.loc[(zip_30308_df_reduced[\"Precipitation\"]>=1)\n",
    "                                  &(zip_30308_df_reduced[\"Precipitation\"]<2),:]\n",
    "high_precip_30308 = zip_30308_df_reduced.loc[zip_30308_df_reduced[\"Precipitation\"]>=2,:]\n",
    "\n",
    "x1_30308 = zip_30308_df_baseline[\"Accident_ct\"]\n",
    "x2_30308 = low_precip_30308[\"Accident_ct\"]\n",
    "x3_30308 = med_precip_30308[\"Accident_ct\"]\n",
    "x4_30308 = high_precip_30308[\"Accident_ct\"]\n",
    "flierprops = dict(marker='s', markerfacecolor='red', markersize=12)\n",
    "plt.boxplot ([x1_30308,x2_30308,x3_30308,x4_30308], labels = ['Baseline','Low Precip','Med Precip','High Precip'], flierprops = flierprops, showmeans=True)\n",
    "plt.title(\"30308 Accident Breakdown\")\n"
   ]
  },
  {
   "cell_type": "code",
   "execution_count": 17,
   "metadata": {},
   "outputs": [
    {
     "data": {
      "image/png": "[encoded data removed]",
      "text/plain": [
       "<Figure size 432x288 with 1 Axes>"
      ]
     },
     "metadata": {
      "needs_background": "light"
     },
     "output_type": "display_data"
    }
   ],
   "source": [
    "#30324 boxplots\n",
    "zip_30324_df_reduced = zip_30324_df.loc[(zip_30324_df[\"Precipitation\"]>0),:]\n",
    "zip_30324_df_baseline = zip_30324_df.loc[(zip_30324_df[\"Precipitation\"]==0),:]\n",
    "low_precip_30324 = zip_30324_df_reduced.loc[zip_30324_df_reduced[\"Precipitation\"]<1,:]\n",
    "med_precip_30324 = zip_30324_df_reduced.loc[(zip_30324_df_reduced[\"Precipitation\"]>=1)\n",
    "                                  &(zip_30324_df_reduced[\"Precipitation\"]<2),:]\n",
    "high_precip_30324 = zip_30324_df_reduced.loc[zip_30324_df_reduced[\"Precipitation\"]>=2,:]\n",
    "\n",
    "x1_30324 = zip_30324_df_baseline[\"Accident_ct\"]\n",
    "x2_30324 = low_precip_30324[\"Accident_ct\"]\n",
    "x3_30324 = med_precip_30324[\"Accident_ct\"]\n",
    "x4_30324 = high_precip_30324[\"Accident_ct\"]\n",
    "flierprops = dict(marker='s', markerfacecolor='red', markersize=12)\n",
    "plt.boxplot ([x1_30324,x2_30324,x3_30324,x4_30324], labels = ['0 in - Baseline','<1in','1-2in','>2in'], flierprops = flierprops, showmeans=True)\n",
    "plt.title(\"30324 Accident Breakdown\", fontsize = 20)\n",
    "plt.xticks(rotation = 45, fontsize= 15)\n",
    "plt.yticks(fontsize = 15)\n",
    "plt.ylabel(\"Number of Accidents\", fontsize = 15)\n",
    "plt.xlabel(\"Precipitation Level\", fontsize = 15)\n",
    "\n",
    "plt.savefig(\"Images/30324_Precip_Boxplot.png\")"
   ]
  },
  {
   "cell_type": "code",
   "execution_count": 18,
   "metadata": {},
   "outputs": [
    {
     "data": {
      "text/plain": [
       "Text(0.5, 1.0, '30342 Accident Breakdown')"
      ]
     },
     "execution_count": 18,
     "metadata": {},
     "output_type": "execute_result"
    },
    {
     "data": {
      "image/png": "[encoded data removed]",
      "text/plain": [
       "<Figure size 432x288 with 1 Axes>"
      ]
     },
     "metadata": {
      "needs_background": "light"
     },
     "output_type": "display_data"
    }
   ],
   "source": [
    "#30342 boxplots\n",
    "zip_30342_df_reduced = zip_30342_df.loc[(zip_30342_df[\"Precipitation\"]>0),:]\n",
    "zip_30342_df_baseline = zip_30342_df.loc[(zip_30342_df[\"Precipitation\"]==0),:]\n",
    "low_precip_30342 = zip_30342_df_reduced.loc[zip_30342_df_reduced[\"Precipitation\"]<1,:]\n",
    "med_precip_30342 = zip_30342_df_reduced.loc[(zip_30342_df_reduced[\"Precipitation\"]>=1)\n",
    "                                  &(zip_30342_df_reduced[\"Precipitation\"]<2),:]\n",
    "high_precip_30342 = zip_30342_df_reduced.loc[zip_30342_df_reduced[\"Precipitation\"]>=2,:]\n",
    "\n",
    "x1_30342 = zip_30342_df_baseline[\"Accident_ct\"]\n",
    "x2_30342 = low_precip_30342[\"Accident_ct\"]\n",
    "x3_30342 = med_precip_30342[\"Accident_ct\"]\n",
    "x4_30342 = high_precip_30342[\"Accident_ct\"]\n",
    "flierprops = dict(marker='s', markerfacecolor='red', markersize=12)\n",
    "plt.boxplot ([x1_30342,x2_30342,x3_30342,x4_30342], labels = ['Baseline','Low Precip','Med Precip','High Precip'], flierprops = flierprops, showmeans=True)\n",
    "plt.title(\"30342 Accident Breakdown\")\n"
   ]
  },
  {
   "cell_type": "code",
   "execution_count": 19,
   "metadata": {},
   "outputs": [
    {
     "data": {
      "text/plain": [
       "Text(0.5, 1.0, '30318 Accident Breakdown')"
      ]
     },
     "execution_count": 19,
     "metadata": {},
     "output_type": "execute_result"
    },
    {
     "data": {
      "image/png": "[encoded data removed]",
      "text/plain": [
       "<Figure size 432x288 with 1 Axes>"
      ]
     },
     "metadata": {
      "needs_background": "light"
     },
     "output_type": "display_data"
    }
   ],
   "source": [
    "#30318 boxplots\n",
    "zip_30318_df_reduced = zip_30318_df.loc[(zip_30318_df[\"Precipitation\"]>0),:]\n",
    "zip_30318_df_baseline = zip_30318_df.loc[(zip_30318_df[\"Precipitation\"]==0),:]\n",
    "low_precip_30318 = zip_30318_df_reduced.loc[zip_30318_df_reduced[\"Precipitation\"]<1,:]\n",
    "med_precip_30318 = zip_30318_df_reduced.loc[(zip_30318_df_reduced[\"Precipitation\"]>=1)\n",
    "                                  &(zip_30318_df_reduced[\"Precipitation\"]<2),:]\n",
    "high_precip_30318 = zip_30318_df_reduced.loc[zip_30318_df_reduced[\"Precipitation\"]>=2,:]\n",
    "\n",
    "x1_30318 = zip_30318_df_baseline[\"Accident_ct\"]\n",
    "x2_30318 = low_precip_30318[\"Accident_ct\"]\n",
    "x3_30318 = med_precip_30318[\"Accident_ct\"]\n",
    "x4_30318 = high_precip_30318[\"Accident_ct\"]\n",
    "flierprops = dict(marker='s', markerfacecolor='red', markersize=12)\n",
    "plt.boxplot ([x1_30318,x2_30318,x3_30318,x4_30318], labels = ['Baseline','Low Precip','Med Precip','High Precip'], flierprops = flierprops, showmeans=True)\n",
    "plt.title(\"30318 Accident Breakdown\")\n"
   ]
  },
  {
   "cell_type": "code",
   "execution_count": 23,
   "metadata": {},
   "outputs": [
    {
     "data": {
      "application/vnd.jupyter.widget-view+json": {
       "model_id": "38f4493db4374f65936018e77d58ff1e",
       "version_major": 2,
       "version_minor": 0
      },
      "text/plain": [
       "Figure(layout=FigureLayout(height='420px'))"
      ]
     },
     "metadata": {},
     "output_type": "display_data"
    }
   ],
   "source": [
    "#configure gmaps\n",
    "gmaps.configure(api_key=g_key)\n",
    "# zipcodes = [30312, 30339, 30331, 30315, 30309, 30340, 30308, 30324, 30342, 30318]\n",
    "#create list of hotel locations to use for markers\n",
    "# marker_locations = [(33.746,-84.376), (33.875, -84.466), (33.716,-84.527), (33.710, -84.384), (33.794, -84.385), (33.899, -84.254),\n",
    "#                    (33.772, -84.381), (33.818, -84.358), (33.879, -84.372), (33.787, -84.437)]\n",
    "\n",
    "#source https://jupyter-gmaps.readthedocs.io/en/latest/tutorial.html\n",
    "zip_dictionary =[{\"Zipcode\":\"30312\", \"Location\":(33.746,-84.376), \"Accidents\":1945, \"Precip_Accidents\":zip_30312_df_reduced[\"Accident_ct\"].sum()},\n",
    "                 {\"Zipcode\":\"30339\", \"Location\":(33.875, -84.466),\"Accidents\":1135, \"Precip_Accidents\":zip_30339_df_reduced[\"Accident_ct\"].sum()},\n",
    "                 {\"Zipcode\":\"30331\", \"Location\":(33.716,-84.527),\"Accidents\":1227, \"Precip_Accidents\":zip_30331_df_reduced[\"Accident_ct\"].sum()},\n",
    "                 {\"Zipcode\":\"30315\", \"Location\":(33.710, -84.384),\"Accidents\":1350, \"Precip_Accidents\":zip_30315_df_reduced[\"Accident_ct\"].sum()},\n",
    "                 {\"Zipcode\":\"30309\", \"Location\":(33.794, -84.385),\"Accidents\":1468, \"Precip_Accidents\":zip_30309_df_reduced[\"Accident_ct\"].sum()},\n",
    "                 {\"Zipcode\":\"30340\", \"Location\":(33.899, -84.254),\"Accidents\":1090, \"Precip_Accidents\":zip_30340_df_reduced[\"Accident_ct\"].sum()},\n",
    "                 {\"Zipcode\":\"30308\", \"Location\":(33.772, -84.381),\"Accidents\":1247, \"Precip_Accidents\":zip_30308_df_reduced[\"Accident_ct\"].sum()},\n",
    "                 {\"Zipcode\":\"30324\", \"Location\":(33.818, -84.358),\"Accidents\":1214, \"Precip_Accidents\":zip_30324_df_reduced[\"Accident_ct\"].sum()},\n",
    "                 {\"Zipcode\":\"30342\", \"Location\":(33.879, -84.372),\"Accidents\":794, \"Precip_Accidents\":zip_30342_df_reduced[\"Accident_ct\"].sum()},\n",
    "                 {\"Zipcode\":\"30318\", \"Location\":(33.787, -84.437),\"Accidents\":907, \"Precip_Accidents\":zip_30318_df_reduced[\"Accident_ct\"].sum()}]\n",
    "\n",
    "#looping through each zipcode coordinates\n",
    "zip_locations = [zip[\"Location\"] for zip in zip_dictionary]\n",
    "\n",
    "#setting up info box template\n",
    "info_box_template = \"\"\"\n",
    "<dl>\n",
    "<dt>Zipcode</dt><dd>{Zipcode}</dd>\n",
    "</dl>\n",
    "\"\"\"\n",
    "\n",
    "zip_info = [info_box_template.format(**zip) for zip in zip_dictionary]\n",
    "fig = gmaps.figure()\n",
    "#create marker layer\n",
    "markers = gmaps.marker_layer(zip_locations, info_box_content=zip_info)\n",
    "\n",
    "# Add marker layer ontop of heat map\n",
    "fig.add_layer(markers)\n",
    "\n",
    "# Display figure\n",
    "fig\n"
   ]
  },
  {
   "cell_type": "code",
   "execution_count": 24,
   "metadata": {},
   "outputs": [
    {
     "data": {
      "application/vnd.jupyter.widget-view+json": {
       "model_id": "27cfca0c8c87486b9136dd9217776ba0",
       "version_major": 2,
       "version_minor": 0
      },
      "text/plain": [
       "Figure(layout=FigureLayout(height='420px'))"
      ]
     },
     "metadata": {},
     "output_type": "display_data"
    }
   ],
   "source": [
    "\n",
    "#set up needed inputs for heat layer from dataframe\n",
    "locations = zip_locations\n",
    "\n",
    "#source https://jupyter-gmaps.readthedocs.io/en/latest/tutorial.html\n",
    "weight = [zip[\"Accidents\"] for zip in zip_dictionary]\n",
    "# weight = [1945, 1135, 1227, 1350, 1468, 1090, 1247, 1214, 794, 907]\n",
    "\n",
    " # Plot figure\n",
    "fig2 = gmaps.figure()\n",
    "\n",
    "# Create heat layer\n",
    "heat_layer = gmaps.heatmap_layer(locations, weights=weight, \n",
    "                                 dissipating=False, max_intensity=1945,\n",
    "                                 point_radius=.025)\n",
    "# Add heat layer\n",
    "fig2.add_layer(heat_layer)\n",
    "# fig.add_layer(markers)\n",
    "\n",
    "# Display figure\n",
    "fig2\n"
   ]
  },
  {
   "cell_type": "code",
   "execution_count": 25,
   "metadata": {},
   "outputs": [
    {
     "data": {
      "application/vnd.jupyter.widget-view+json": {
       "model_id": "582fa56bf1d1427e9fe092582c61bf06",
       "version_major": 2,
       "version_minor": 0
      },
      "text/plain": [
       "Figure(layout=FigureLayout(height='420px'))"
      ]
     },
     "metadata": {},
     "output_type": "display_data"
    }
   ],
   "source": [
    "\n",
    "#set up needed inputs for heat layer from dataframe\n",
    "locations = zip_locations\n",
    "\n",
    "\n",
    "#source https://jupyter-gmaps.readthedocs.io/en/latest/tutorial.html\n",
    "weight2 = [zip[\"Precip_Accidents\"] for zip in zip_dictionary]\n",
    "# weight = [1945, 1135, 1227, 1350, 1468, 1090, 1247, 1214, 794, 907]\n",
    "\n",
    " # Plot figure\n",
    "fig3 = gmaps.figure()\n",
    "\n",
    "# Create heat layer\n",
    "heat_layer = gmaps.heatmap_layer(locations, weights=weight2, \n",
    "                                 dissipating=False, max_intensity=763,\n",
    "                                 point_radius=.025)\n",
    "# Add heat layer\n",
    "fig3.add_layer(heat_layer)\n",
    "# fig.add_layer(markers)\n",
    "\n",
    "# Display figure\n",
    "fig3\n"
   ]
  },
  {
   "cell_type": "code",
   "execution_count": 26,
   "metadata": {},
   "outputs": [],
   "source": [
    "#Interstate vs Residential Rds\n",
    "# zipcodes = [30312, 30339, 30331, 30315, 30309, 30340, 30308, 30324, 30342, 30318]\n",
    "#30312\n",
    "y_30312_I = zip_30312_df_reduced[\"Interstate_ct\"].sum()\n",
    "y_30312_R = zip_30312_df_reduced[\"Residential_ct\"].sum()\n",
    "y_30312_I_m = zip_30312_df_reduced[\"Interstate_ct\"].mean()\n",
    "y_30312_R_m = zip_30312_df_reduced[\"Residential_ct\"].mean()\n",
    "\n",
    "#30339\n",
    "y_30339_I = zip_30339_df_reduced[\"Interstate_ct\"].sum()\n",
    "y_30339_R = zip_30339_df_reduced[\"Residential_ct\"].sum()\n",
    "y_30339_I_m = zip_30339_df_reduced[\"Interstate_ct\"].mean()\n",
    "y_30339_R_m = zip_30339_df_reduced[\"Residential_ct\"].mean()\n",
    "#30331\n",
    "y_30331_I = zip_30331_df_reduced[\"Interstate_ct\"].sum()\n",
    "y_30331_R = zip_30331_df_reduced[\"Residential_ct\"].sum()\n",
    "y_30331_I_m = zip_30331_df_reduced[\"Interstate_ct\"].mean()\n",
    "y_30331_R_m = zip_30331_df_reduced[\"Residential_ct\"].mean()\n",
    "#30315\n",
    "y_30315_I = zip_30315_df_reduced[\"Interstate_ct\"].sum()\n",
    "y_30315_R = zip_30315_df_reduced[\"Residential_ct\"].sum()\n",
    "y_30315_I_m = zip_30315_df_reduced[\"Interstate_ct\"].mean()\n",
    "y_30315_R_m = zip_30315_df_reduced[\"Residential_ct\"].mean()\n",
    "#30309\n",
    "y_30309_I = zip_30309_df_reduced[\"Interstate_ct\"].sum()\n",
    "y_30309_R = zip_30309_df_reduced[\"Residential_ct\"].sum()\n",
    "y_30309_I_m = zip_30309_df_reduced[\"Interstate_ct\"].mean()\n",
    "y_30309_R_m = zip_30309_df_reduced[\"Residential_ct\"].mean()\n",
    "#30340\n",
    "y_30340_I = zip_30340_df_reduced[\"Interstate_ct\"].sum()\n",
    "y_30340_R = zip_30340_df_reduced[\"Residential_ct\"].sum()\n",
    "y_30340_I_m = zip_30340_df_reduced[\"Interstate_ct\"].mean()\n",
    "y_30340_R_m = zip_30340_df_reduced[\"Residential_ct\"].mean()\n",
    "#30308\n",
    "y_30308_I = zip_30308_df_reduced[\"Interstate_ct\"].sum()\n",
    "y_30308_R = zip_30308_df_reduced[\"Residential_ct\"].sum()\n",
    "y_30308_I_m = zip_30308_df_reduced[\"Interstate_ct\"].mean()\n",
    "y_30308_R_m = zip_30308_df_reduced[\"Residential_ct\"].mean()\n",
    "#30324\n",
    "y_30324_I = zip_30324_df_reduced[\"Interstate_ct\"].sum()\n",
    "y_30324_R = zip_30324_df_reduced[\"Residential_ct\"].sum()\n",
    "y_30324_I_m = zip_30324_df_reduced[\"Interstate_ct\"].mean()\n",
    "y_30324_R_m = zip_30324_df_reduced[\"Residential_ct\"].mean()\n",
    "#30342\n",
    "y_30342_I = zip_30342_df_reduced[\"Interstate_ct\"].sum()\n",
    "y_30342_R = zip_30342_df_reduced[\"Residential_ct\"].sum()\n",
    "y_30342_I_m = zip_30342_df_reduced[\"Interstate_ct\"].mean()\n",
    "y_30342_R_m = zip_30342_df_reduced[\"Residential_ct\"].mean()\n",
    "#30318\n",
    "y_30318_I = zip_30318_df_reduced[\"Interstate_ct\"].sum()\n",
    "y_30318_R = zip_30318_df_reduced[\"Residential_ct\"].sum()\n",
    "y_30318_I_m = zip_30318_df_reduced[\"Interstate_ct\"].mean()\n",
    "y_30318_R_m = zip_30318_df_reduced[\"Residential_ct\"].mean()\n"
   ]
  },
  {
   "cell_type": "code",
   "execution_count": 27,
   "metadata": {
    "scrolled": true
   },
   "outputs": [
    {
     "data": {
      "image/png": "[encoded data removed]",
      "text/plain": [
       "<Figure size 432x288 with 1 Axes>"
      ]
     },
     "metadata": {
      "needs_background": "light"
     },
     "output_type": "display_data"
    }
   ],
   "source": [
    "\n",
    "# Plotting Bar Plot \n",
    "plt.bar(\"30312\",y_30312_I, color = 'r',label = \"Interstate\") \n",
    "plt.bar(\"30312\",y_30312_R, color = 'b', label = \"Residential\") \n",
    "\n",
    "plt.bar(\"30339\",y_30339_I, color = 'r') \n",
    "plt.bar(\"30339\",y_30339_R, color = 'b') \n",
    " \n",
    "plt.bar(\"30331\",y_30331_I, color = 'r') \n",
    "plt.bar(\"30331\",y_30331_R, color = 'b') \n",
    "\n",
    "plt.bar(\"30315\",y_30315_I, color = 'r') \n",
    "plt.bar(\"30315\",y_30315_R, color = 'b') \n",
    " \n",
    "plt.bar(\"30309\",y_30309_I, color = 'r') \n",
    "plt.bar(\"30309\",y_30309_R, color = 'b') \n",
    "\n",
    "plt.bar(\"30340\",y_30340_I, color = 'r') \n",
    "plt.bar(\"30340\",y_30340_R, color = 'b') \n",
    "\n",
    "\n",
    "plt.bar(\"30308\",y_30308_I, color = 'r') \n",
    "plt.bar(\"30308\",y_30308_R, color = 'b')\n",
    "\n",
    "plt.bar(\"30324\",y_30324_I, color = 'r') \n",
    "plt.bar(\"30324\",y_30324_R, color = 'b')\n",
    "\n",
    "plt.bar(\"30342\",y_30342_I, color = 'r') \n",
    "plt.bar(\"30342\",y_30342_R, color = 'b')\n",
    "\n",
    "plt.bar(\"30318\",y_30318_I, color = 'r') \n",
    "plt.bar(\"30318\",y_30318_R, color = 'b')\n",
    "\n",
    "plt.legend(loc = \"upper right\")\n",
    "figsize = (30, 10)\n",
    "plt.xticks(rotation='vertical')\n",
    "# Show Plot \n",
    "plt.tight_layout()\n",
    "\n"
   ]
  },
  {
   "cell_type": "code",
   "execution_count": 28,
   "metadata": {},
   "outputs": [],
   "source": [
    "#Interstate vs Residential Rds\n",
    "# zipcodes = [30312, 30339, 30331, 30315, 30309, 30340, 30308, 30324, 30342, 30318]\n",
    "#30312\n",
    "y_30312_I_base = zip_30312_df_baseline[\"Interstate_ct\"].sum()\n",
    "y_30312_R_base = zip_30312_df_baseline[\"Residential_ct\"].sum()\n",
    "y_30312_I_base_m = zip_30312_df_baseline[\"Interstate_ct\"].mean()\n",
    "y_30312_R_base_m = zip_30312_df_baseline[\"Residential_ct\"].mean()\n",
    "#30339\n",
    "y_30339_I_base = zip_30339_df_baseline[\"Interstate_ct\"].sum()\n",
    "y_30339_R_base = zip_30339_df_baseline[\"Residential_ct\"].sum()\n",
    "y_30339_I_base_m = zip_30339_df_baseline[\"Interstate_ct\"].mean()\n",
    "y_30339_R_base_m = zip_30339_df_baseline[\"Residential_ct\"].mean()\n",
    "#30331\n",
    "y_30331_I_base = zip_30331_df_baseline[\"Interstate_ct\"].sum()\n",
    "y_30331_R_base = zip_30331_df_baseline[\"Residential_ct\"].sum()\n",
    "y_30331_I_base_m = zip_30331_df_baseline[\"Interstate_ct\"].mean()\n",
    "y_30331_R_base_m = zip_30331_df_baseline[\"Residential_ct\"].mean()\n",
    "#30315\n",
    "y_30315_I_base = zip_30315_df_baseline[\"Interstate_ct\"].sum()\n",
    "y_30315_R_base = zip_30315_df_baseline[\"Residential_ct\"].sum()\n",
    "y_30315_I_base_m = zip_30315_df_baseline[\"Interstate_ct\"].mean()\n",
    "y_30315_R_base_m = zip_30315_df_baseline[\"Residential_ct\"].mean()\n",
    "#30309\n",
    "y_30309_I_base = zip_30309_df_baseline[\"Interstate_ct\"].sum()\n",
    "y_30309_R_base = zip_30309_df_baseline[\"Residential_ct\"].sum()\n",
    "y_30309_I_base_m = zip_30309_df_baseline[\"Interstate_ct\"].mean()\n",
    "y_30309_R_base_m = zip_30309_df_baseline[\"Residential_ct\"].mean()\n",
    "#30340\n",
    "y_30340_I_base = zip_30340_df_baseline[\"Interstate_ct\"].sum()\n",
    "y_30340_R_base = zip_30340_df_baseline[\"Residential_ct\"].sum()\n",
    "y_30340_I_base_m = zip_30340_df_baseline[\"Interstate_ct\"].mean()\n",
    "y_30340_R_base_m = zip_30340_df_baseline[\"Residential_ct\"].mean()\n",
    "#30308\n",
    "y_30308_I_base = zip_30308_df_baseline[\"Interstate_ct\"].sum()\n",
    "y_30308_R_base = zip_30308_df_baseline[\"Residential_ct\"].sum()\n",
    "y_30308_I_base_m = zip_30308_df_baseline[\"Interstate_ct\"].mean()\n",
    "y_30308_R_base_m = zip_30308_df_baseline[\"Residential_ct\"].mean()\n",
    "#30324\n",
    "y_30324_I_base = zip_30324_df_baseline[\"Interstate_ct\"].sum()\n",
    "y_30324_R_base = zip_30324_df_baseline[\"Residential_ct\"].sum()\n",
    "y_30324_I_base_m = zip_30324_df_baseline[\"Interstate_ct\"].mean()\n",
    "y_30324_R_base_m = zip_30324_df_baseline[\"Residential_ct\"].mean()\n",
    "#30342\n",
    "y_30342_I_base = zip_30342_df_baseline[\"Interstate_ct\"].sum()\n",
    "y_30342_R_base = zip_30342_df_baseline[\"Residential_ct\"].sum()\n",
    "y_30342_I_base_m = zip_30342_df_baseline[\"Interstate_ct\"].mean()\n",
    "y_30342_R_base_m = zip_30342_df_baseline[\"Residential_ct\"].mean()\n",
    "#30318\n",
    "y_30318_I_base = zip_30318_df_baseline[\"Interstate_ct\"].sum()\n",
    "y_30318_R_base = zip_30318_df_baseline[\"Residential_ct\"].sum()\n",
    "y_30318_I_base_m = zip_30318_df_baseline[\"Interstate_ct\"].mean()\n",
    "y_30318_R_base_m = zip_30318_df_baseline[\"Residential_ct\"].mean()\n"
   ]
  },
  {
   "cell_type": "code",
   "execution_count": 29,
   "metadata": {},
   "outputs": [
    {
     "data": {
      "text/plain": [
       "([<matplotlib.axis.XTick at 0x1dfdb715438>,\n",
       "  <matplotlib.axis.XTick at 0x1dfdb73b668>,\n",
       "  <matplotlib.axis.XTick at 0x1dfdb73b2b0>,\n",
       "  <matplotlib.axis.XTick at 0x1dfdb782c50>,\n",
       "  <matplotlib.axis.XTick at 0x1dfdb78c198>,\n",
       "  <matplotlib.axis.XTick at 0x1dfdb78c668>,\n",
       "  <matplotlib.axis.XTick at 0x1dfdb78cbe0>,\n",
       "  <matplotlib.axis.XTick at 0x1dfdb78c630>,\n",
       "  <matplotlib.axis.XTick at 0x1dfdb7921d0>,\n",
       "  <matplotlib.axis.XTick at 0x1dfdb792748>],\n",
       " <a list of 10 Text xticklabel objects>)"
      ]
     },
     "execution_count": 29,
     "metadata": {},
     "output_type": "execute_result"
    },
    {
     "data": {
      "image/png": "[encoded data removed]",
      "text/plain": [
       "<Figure size 432x288 with 1 Axes>"
      ]
     },
     "metadata": {
      "needs_background": "light"
     },
     "output_type": "display_data"
    }
   ],
   "source": [
    "\n",
    "#source: https://learndataanalysis.org/graph-a-grouped-bar-chart-matplotlib-tutorial/\n",
    "zipcodes = [30312, 30339, 30331, 30315, 30309, 30340, 30308, 30324, 30342, 30318]\n",
    "indx = np.arange(len(zipcodes))\n",
    "I_counts_precip = [y_30312_I,y_30339_I,y_30331_I,y_30315_I,y_30309_I,y_30340_I,y_30308_I,y_30324_I,y_30342_I,y_30318_I]\n",
    "I_counts_no_precip = [y_30312_I_base,y_30339_I_base,y_30331_I_base,y_30315_I_base,y_30309_I_base,y_30340_I_base,y_30308_I_base,y_30324_I_base,y_30342_I_base,y_30318_I_base]\n",
    "bar_width = 0.35\n",
    "\n",
    "fig, ax = plt.subplots()\n",
    "inter_precip = ax.bar(indx - bar_width/2, I_counts_precip, bar_width, label='With precip')\n",
    "inter_no_precip = ax.bar(indx + bar_width/2, I_counts_no_precip, bar_width, label='No precip')\n",
    "plt.title(\"Interstate Accidents: With and Without Precipitation\")\n",
    "plt.legend(loc=\"upper right\")\n",
    "plt.xlabel(\"Zipcode\")\n",
    "plt.ylabel(\"Number of Accidents\")\n",
    "tick_locations = indx\n",
    "plt.xticks(tick_locations, zipcodes, rotation = 'vertical')\n"
   ]
  },
  {
   "cell_type": "code",
   "execution_count": 30,
   "metadata": {},
   "outputs": [
    {
     "data": {
      "text/plain": [
       "([<matplotlib.axis.XTick at 0x1dfdb7c8b38>,\n",
       "  <matplotlib.axis.XTick at 0x1dfdb7c8470>,\n",
       "  <matplotlib.axis.XTick at 0x1dfdb7c82e8>,\n",
       "  <matplotlib.axis.XTick at 0x1dfdb82e390>,\n",
       "  <matplotlib.axis.XTick at 0x1dfdb82e860>,\n",
       "  <matplotlib.axis.XTick at 0x1dfdb82eda0>,\n",
       "  <matplotlib.axis.XTick at 0x1dfdb82e438>,\n",
       "  <matplotlib.axis.XTick at 0x1dfdb833518>,\n",
       "  <matplotlib.axis.XTick at 0x1dfdb833a58>,\n",
       "  <matplotlib.axis.XTick at 0x1dfdb83b080>],\n",
       " <a list of 10 Text xticklabel objects>)"
      ]
     },
     "execution_count": 30,
     "metadata": {},
     "output_type": "execute_result"
    },
    {
     "data": {
      "image/png": "[encoded data removed]",
      "text/plain": [
       "<Figure size 432x288 with 1 Axes>"
      ]
     },
     "metadata": {
      "needs_background": "light"
     },
     "output_type": "display_data"
    }
   ],
   "source": [
    "zipcodes = [30312, 30339, 30331, 30315, 30309, 30340, 30308, 30324, 30342, 30318]\n",
    "indx = np.arange(len(zipcodes))\n",
    "Accident_counts_interstate = [y_30312_I,y_30339_I,y_30331_I,y_30315_I,y_30309_I,y_30340_I,y_30308_I,y_30324_I,y_30342_I,y_30318_I]\n",
    "Accident_counts_residential = [y_30312_R,y_30339_R,y_30331_R,y_30315_R,y_30309_R,y_30340_R,y_30308_R,y_30324_R,y_30342_R,y_30318_R]\n",
    "bar_width = 0.35\n",
    "\n",
    "fig, ax = plt.subplots()\n",
    "inter_precip = ax.bar(indx - bar_width/2, Accident_counts_interstate, bar_width, label='Interstate')\n",
    "inter_no_precip = ax.bar(indx + bar_width/2, Accident_counts_residential, bar_width, label='Residential')\n",
    "plt.title(\"With Precipitation: Accidents on Interstate vs Residential\")\n",
    "plt.legend(loc=\"upper right\")\n",
    "plt.xlabel(\"Zipcode\")\n",
    "plt.ylabel(\"Number of Accidents\")\n",
    "tick_locations = indx\n",
    "plt.xticks(tick_locations, zipcodes, rotation = 'vertical')\n"
   ]
  },
  {
   "cell_type": "code",
   "execution_count": 31,
   "metadata": {},
   "outputs": [
    {
     "data": {
      "text/plain": [
       "([<matplotlib.axis.XTick at 0x1dfdb87de48>,\n",
       "  <matplotlib.axis.XTick at 0x1dfdb87d780>,\n",
       "  <matplotlib.axis.XTick at 0x1dfdb87d470>,\n",
       "  <matplotlib.axis.XTick at 0x1dfdb8cd668>,\n",
       "  <matplotlib.axis.XTick at 0x1dfdb8cdb38>,\n",
       "  <matplotlib.axis.XTick at 0x1dfdb8d70f0>,\n",
       "  <matplotlib.axis.XTick at 0x1dfdb8cde80>,\n",
       "  <matplotlib.axis.XTick at 0x1dfdb8d77b8>,\n",
       "  <matplotlib.axis.XTick at 0x1dfdb8d7d30>,\n",
       "  <matplotlib.axis.XTick at 0x1dfdb8de2e8>],\n",
       " <a list of 10 Text xticklabel objects>)"
      ]
     },
     "execution_count": 31,
     "metadata": {},
     "output_type": "execute_result"
    },
    {
     "data": {
      "image/png": "[encoded data removed]",
      "text/plain": [
       "<Figure size 432x288 with 1 Axes>"
      ]
     },
     "metadata": {
      "needs_background": "light"
     },
     "output_type": "display_data"
    }
   ],
   "source": [
    "\n",
    "#source: https://learndataanalysis.org/graph-a-grouped-bar-chart-matplotlib-tutorial/\n",
    "zipcodes = [30312, 30339, 30331, 30315, 30309, 30340, 30308, 30324, 30342, 30318]\n",
    "indx = np.arange(len(zipcodes))\n",
    "R_counts_no_precip = [y_30312_R_base,y_30339_R_base,y_30331_R_base,y_30315_R_base,y_30309_R_base,y_30340_R_base,y_30308_R_base,y_30324_R_base,y_30342_R_base,y_30318_R_base]\n",
    "I_counts_no_precip = [y_30312_I_base,y_30339_I_base,y_30331_I_base,y_30315_I_base,y_30309_I_base,y_30340_I_base,y_30308_I_base,y_30324_I_base,y_30342_I_base,y_30318_I_base]\n",
    "bar_width = 0.35\n",
    "\n",
    "fig, ax = plt.subplots()\n",
    "inter_precip = ax.bar(indx - bar_width/2, I_counts_no_precip, bar_width, label='Interstate')\n",
    "inter_no_precip = ax.bar(indx + bar_width/2, R_counts_no_precip, bar_width, label='Residential')\n",
    "plt.title(\"No Precipitation: Accidents on Interstate vs Residential\")\n",
    "plt.legend(loc=\"upper right\")\n",
    "plt.xlabel(\"Zipcode\")\n",
    "plt.ylabel(\"Number of Accidents\")\n",
    "tick_locations = indx\n",
    "plt.xticks(tick_locations, zipcodes, rotation = 'vertical')\n"
   ]
  },
  {
   "cell_type": "code",
   "execution_count": 32,
   "metadata": {},
   "outputs": [
    {
     "data": {
      "text/plain": [
       "([<matplotlib.axis.XTick at 0x1dfdb920160>,\n",
       "  <matplotlib.axis.XTick at 0x1dfdb91ba90>,\n",
       "  <matplotlib.axis.XTick at 0x1dfdb91b780>,\n",
       "  <matplotlib.axis.XTick at 0x1dfdb97b978>,\n",
       "  <matplotlib.axis.XTick at 0x1dfdb97be48>,\n",
       "  <matplotlib.axis.XTick at 0x1dfdb982390>,\n",
       "  <matplotlib.axis.XTick at 0x1dfdb97bf28>,\n",
       "  <matplotlib.axis.XTick at 0x1dfdb982a90>,\n",
       "  <matplotlib.axis.XTick at 0x1dfdb988080>,\n",
       "  <matplotlib.axis.XTick at 0x1dfdb988550>],\n",
       " <a list of 10 Text xticklabel objects>)"
      ]
     },
     "execution_count": 32,
     "metadata": {},
     "output_type": "execute_result"
    },
    {
     "data": {
      "image/png": "[encoded data removed]",
      "text/plain": [
       "<Figure size 432x288 with 1 Axes>"
      ]
     },
     "metadata": {
      "needs_background": "light"
     },
     "output_type": "display_data"
    }
   ],
   "source": [
    "zipcodes = [30312, 30339, 30331, 30315, 30309, 30340, 30308, 30324, 30342, 30318]\n",
    "indx = np.arange(len(zipcodes))\n",
    "Accident_counts_interstate = [y_30312_I_m,y_30339_I_m,y_30331_I_m,y_30315_I_m,y_30309_I_m,y_30340_I_m,y_30308_I_m,y_30324_I_m,y_30342_I_m,y_30318_I_m]\n",
    "Accident_counts_residential = [y_30312_R_m,y_30339_R_m,y_30331_R_m,y_30315_R_m,y_30309_R_m,y_30340_R_m,y_30308_R_m,y_30324_R_m,y_30342_R_m,y_30318_R_m]\n",
    "bar_width = 0.35\n",
    "\n",
    "fig, ax = plt.subplots()\n",
    "inter_precip = ax.bar(indx - bar_width/2, Accident_counts_interstate, bar_width, label='Interstate')\n",
    "inter_no_precip = ax.bar(indx + bar_width/2, Accident_counts_residential, bar_width, label='Residential')\n",
    "plt.title(\"With Precipitation: Accident Avg on Interstate vs Residential\")\n",
    "plt.legend(loc=\"upper right\")\n",
    "plt.xlabel(\"Zipcode\")\n",
    "plt.ylabel(\"Average Accidents\")\n",
    "tick_locations = indx\n",
    "plt.xticks(tick_locations, zipcodes, rotation = 'vertical')\n"
   ]
  },
  {
   "cell_type": "code",
   "execution_count": 33,
   "metadata": {},
   "outputs": [
    {
     "data": {
      "text/plain": [
       "([<matplotlib.axis.XTick at 0x1dfdb9c13c8>,\n",
       "  <matplotlib.axis.XTick at 0x1dfdb9cacc0>,\n",
       "  <matplotlib.axis.XTick at 0x1dfdb9ca9e8>,\n",
       "  <matplotlib.axis.XTick at 0x1dfdba1ac18>,\n",
       "  <matplotlib.axis.XTick at 0x1dfdba24160>,\n",
       "  <matplotlib.axis.XTick at 0x1dfdba24668>,\n",
       "  <matplotlib.axis.XTick at 0x1dfdba1af60>,\n",
       "  <matplotlib.axis.XTick at 0x1dfdba24d68>,\n",
       "  <matplotlib.axis.XTick at 0x1dfdba2b320>,\n",
       "  <matplotlib.axis.XTick at 0x1dfdba2b898>],\n",
       " <a list of 10 Text xticklabel objects>)"
      ]
     },
     "execution_count": 33,
     "metadata": {},
     "output_type": "execute_result"
    },
    {
     "data": {
      "image/png": "[encoded data removed]",
      "text/plain": [
       "<Figure size 432x288 with 1 Axes>"
      ]
     },
     "metadata": {
      "needs_background": "light"
     },
     "output_type": "display_data"
    }
   ],
   "source": [
    "\n",
    "#source: https://learndataanalysis.org/graph-a-grouped-bar-chart-matplotlib-tutorial/\n",
    "zipcodes = [30312, 30339, 30331, 30315, 30309, 30340, 30308, 30324, 30342, 30318]\n",
    "indx = np.arange(len(zipcodes))\n",
    "R_counts_no_precip = [y_30312_R_base_m,y_30339_R_base_m,y_30331_R_base_m,y_30315_R_base_m,y_30309_R_base_m,y_30340_R_base_m,y_30308_R_base_m,y_30324_R_base_m,y_30342_R_base_m,y_30318_R_base_m]\n",
    "I_counts_no_precip = [y_30312_I_base_m,y_30339_I_base_m,y_30331_I_base_m,y_30315_I_base_m,y_30309_I_base_m,y_30340_I_base_m,y_30308_I_base_m,y_30324_I_base_m,y_30342_I_base_m,y_30318_I_base_m]\n",
    "bar_width = 0.35\n",
    "\n",
    "fig, ax = plt.subplots()\n",
    "inter_precip = ax.bar(indx - bar_width/2, I_counts_no_precip, bar_width, label='Interstate')\n",
    "inter_no_precip = ax.bar(indx + bar_width/2, R_counts_no_precip, bar_width, label='Residential')\n",
    "plt.title(\"No Precipitation: Accident Avg on Interstate vs Residential\")\n",
    "plt.legend(loc=\"upper right\")\n",
    "plt.xlabel(\"Zipcode\")\n",
    "plt.ylabel(\"Average Accidents\")\n",
    "tick_locations = indx\n",
    "plt.xticks(tick_locations, zipcodes, rotation = 'vertical')\n"
   ]
  },
  {
   "cell_type": "code",
   "execution_count": 35,
   "metadata": {},
   "outputs": [
    {
     "data": {
      "image/png": "[encoded data removed]",
      "text/plain": [
       "<Figure size 432x288 with 1 Axes>"
      ]
     },
     "metadata": {
      "needs_background": "light"
     },
     "output_type": "display_data"
    }
   ],
   "source": [
    "zipcodes = [30312, 30339, 30331, 30315, 30309, 30340, 30308, 30324, 30342, 30318]\n",
    "indx = np.arange(len(zipcodes))\n",
    "Accident_counts_interstate = [y_30312_I_m,y_30339_I_m,y_30331_I_m,y_30315_I_m,y_30309_I_m,y_30340_I_m,y_30308_I_m,y_30324_I_m,y_30342_I_m,y_30318_I_m]\n",
    "I_counts_no_precip = [y_30312_I_base_m,y_30339_I_base_m,y_30331_I_base_m,y_30315_I_base_m,y_30309_I_base_m,y_30340_I_base_m,y_30308_I_base_m,y_30324_I_base_m,y_30342_I_base_m,y_30318_I_base_m]\n",
    "bar_width = 0.35\n",
    "\n",
    "fig, ax = plt.subplots()\n",
    "inter_precip = ax.bar(indx - bar_width/2, Accident_counts_interstate, bar_width, label='Precipitation')\n",
    "inter_no_precip = ax.bar(indx + bar_width/2, I_counts_no_precip, bar_width, label='No precipitation')\n",
    "plt.title(\"Accident Average on Interstates\", fontsize = 20)\n",
    "plt.legend(loc=\"upper right\", fontsize = 12)\n",
    "plt.xlabel(\"Zip code\", fontsize = 15)\n",
    "plt.ylabel(\"Average Accidents\", fontsize = 15)\n",
    "tick_locations = indx\n",
    "plt.xticks(tick_locations, zipcodes, rotation = 'vertical', fontsize = 12)\n",
    "plt.yticks(fontsize = 12)\n",
    "plt.savefig(\"Images/Accident_Avg_Interstate_Comparison.png\")\n"
   ]
  },
  {
   "cell_type": "code",
   "execution_count": 57,
   "metadata": {},
   "outputs": [
    {
     "data": {
      "text/plain": [
       "([<matplotlib.axis.XTick at 0x2ba04083400>,\n",
       "  <matplotlib.axis.XTick at 0x2ba0408dcf8>,\n",
       "  <matplotlib.axis.XTick at 0x2ba0408da20>,\n",
       "  <matplotlib.axis.XTick at 0x2ba040dfb70>,\n",
       "  <matplotlib.axis.XTick at 0x2ba040e80b8>,\n",
       "  <matplotlib.axis.XTick at 0x2ba040e85c0>,\n",
       "  <matplotlib.axis.XTick at 0x2ba040dfcc0>,\n",
       "  <matplotlib.axis.XTick at 0x2ba040e8cc0>,\n",
       "  <matplotlib.axis.XTick at 0x2ba040ee278>,\n",
       "  <matplotlib.axis.XTick at 0x2ba040ee780>],\n",
       " <a list of 10 Text xticklabel objects>)"
      ]
     },
     "execution_count": 57,
     "metadata": {},
     "output_type": "execute_result"
    },
    {
     "data": {
      "image/png": "[encoded data removed]",
      "text/plain": [
       "<Figure size 432x288 with 1 Axes>"
      ]
     },
     "metadata": {
      "needs_background": "light"
     },
     "output_type": "display_data"
    }
   ],
   "source": [
    "zipcodes = [30312, 30339, 30331, 30315, 30309, 30340, 30308, 30324, 30342, 30318]\n",
    "indx = np.arange(len(zipcodes))\n",
    "R_counts_no_precip = [y_30312_R_base_m,y_30339_R_base_m,y_30331_R_base_m,y_30315_R_base_m,y_30309_R_base_m,y_30340_R_base_m,y_30308_R_base_m,y_30324_R_base_m,y_30342_R_base_m,y_30318_R_base_m]\n",
    "Accident_counts_residential = [y_30312_R_m,y_30339_R_m,y_30331_R_m,y_30315_R_m,y_30309_R_m,y_30340_R_m,y_30308_R_m,y_30324_R_m,y_30342_R_m,y_30318_R_m]\n",
    "\n",
    "bar_width = 0.35\n",
    "\n",
    "fig, ax = plt.subplots()\n",
    "inter_precip = ax.bar(indx - bar_width/2, Accident_counts_residential, bar_width, label='Precipitation')\n",
    "inter_no_precip = ax.bar(indx + bar_width/2, R_counts_no_precip, bar_width, label='No precipitation')\n",
    "plt.title(\"Accident Avg on Residential Rds\", fontsize = 15)\n",
    "plt.legend(loc=\"upper right\")\n",
    "plt.xlabel(\"Zipcode\")\n",
    "plt.ylabel(\"Average Accidents\")\n",
    "tick_locations = indx\n",
    "plt.xticks(tick_locations, zipcodes, rotation = 'vertical')\n"
   ]
  },
  {
   "cell_type": "code",
   "execution_count": null,
   "metadata": {},
   "outputs": [],
   "source": []
  },
  {
   "cell_type": "code",
   "execution_count": null,
   "metadata": {},
   "outputs": [],
   "source": []
  }
 ],
 "metadata": {
  "kernelspec": {
   "display_name": "Python [conda env:PythonData] *",
   "language": "python",
   "name": "conda-env-PythonData-py"
  },
  "language_info": {
   "codemirror_mode": {
    "name": "ipython",
    "version": 3
   },
   "file_extension": ".py",
   "mimetype": "text/x-python",
   "name": "python",
   "nbconvert_exporter": "python",
   "pygments_lexer": "ipython3",
   "version": "3.6.10"
  }
 },
 "nbformat": 4,
 "nbformat_minor": 4
}
