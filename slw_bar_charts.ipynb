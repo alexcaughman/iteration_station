{
 "cells": [
  {
   "cell_type": "code",
   "execution_count": 1,
   "metadata": {},
   "outputs": [],
   "source": [
    "#import dependencies\n",
    "import csv\n",
    "import pandas as pd\n",
    "import matplotlib.pyplot as plt\n",
    "import scipy.stats as st\n",
    "import numpy as np\n",
    "from scipy.stats import linregress"
   ]
  },
  {
   "cell_type": "code",
   "execution_count": 2,
   "metadata": {
    "scrolled": true
   },
   "outputs": [
    {
     "name": "stdout",
     "output_type": "stream",
     "text": [
      "     Unnamed: 0  Location  Address Country        Date  Maximum Temperature  \\\n",
      "0             0       NaN    30318     USA  01/01/2019                 64.8   \n",
      "1             1       NaN    30318     USA  01/02/2019                 56.7   \n",
      "2             2       NaN    30318     USA  01/03/2019                 54.6   \n",
      "3             3       NaN    30318     USA  01/04/2019                 64.0   \n",
      "4             4       NaN    30318     USA  01/05/2019                 57.5   \n",
      "..          ...       ...      ...     ...         ...                  ...   \n",
      "725         725       NaN    30318     USA  12/27/2018                 53.1   \n",
      "726         726       NaN    30318     USA  12/28/2018                 62.3   \n",
      "727         727       NaN    30318     USA  12/29/2018                 59.6   \n",
      "728         728       NaN    30318     USA  12/30/2018                 54.5   \n",
      "729         729       NaN    30318     USA  12/31/2018                 69.6   \n",
      "\n",
      "     Minimum Temperature  Temperature  Wind Chill  Heat Index  ...  \\\n",
      "0                   55.7         60.9         NaN         NaN  ...   \n",
      "1                   48.2         51.8        46.5         NaN  ...   \n",
      "2                   50.6         52.3         NaN         NaN  ...   \n",
      "3                   45.5         54.3        40.6         NaN  ...   \n",
      "4                   43.6         48.7        36.3         NaN  ...   \n",
      "..                   ...          ...         ...         ...  ...   \n",
      "725                 47.2         49.5        42.1         NaN  ...   \n",
      "726                 49.5         55.1        45.3         NaN  ...   \n",
      "727                 44.3         51.5        44.2         NaN  ...   \n",
      "728                 49.6         52.0        48.9         NaN  ...   \n",
      "729                 54.7         61.8         NaN         NaN  ...   \n",
      "\n",
      "     Relative Humidity              Conditions  Severity_1  Severity_2  \\\n",
      "0                93.45  Rain, Partially cloudy           0           0   \n",
      "1                95.71  Rain, Partially cloudy           0           1   \n",
      "2                98.55          Rain, Overcast           0           1   \n",
      "3                89.27          Rain, Overcast           0           0   \n",
      "4                66.48        Partially cloudy           0           0   \n",
      "..                 ...                     ...         ...         ...   \n",
      "725              71.87          Rain, Overcast           0           0   \n",
      "726              98.71          Rain, Overcast           0           0   \n",
      "727              85.04        Partially cloudy           0           0   \n",
      "728              98.15          Rain, Overcast           0           0   \n",
      "729              92.78                Overcast           0           0   \n",
      "\n",
      "     Severity_3  Severity_4 Residential_ct  Interstate_ct  Accident_ct  \\\n",
      "0             0           0              0              0            0   \n",
      "1             2           0              1              2            3   \n",
      "2             1           0              0              2            2   \n",
      "3             2           0              0              2            2   \n",
      "4             2           0              1              1            2   \n",
      "..          ...         ...            ...            ...          ...   \n",
      "725           0           0              0              0            0   \n",
      "726           1           0              0              1            1   \n",
      "727           0           0              0              0            0   \n",
      "728           0           0              0              0            0   \n",
      "729           0           0              0              0            0   \n",
      "\n",
      "     Zipcode  \n",
      "0      30318  \n",
      "1      30318  \n",
      "2      30318  \n",
      "3      30318  \n",
      "4      30318  \n",
      "..       ...  \n",
      "725    30318  \n",
      "726    30318  \n",
      "727    30318  \n",
      "728    30318  \n",
      "729    30318  \n",
      "\n",
      "[730 rows x 25 columns]\n"
     ]
    }
   ],
   "source": [
    "#reading in 30308_weather_traffic_FINAL from csv\n",
    "# Csvpath = \"weather_data2019_csv.csv\"\n",
    "zip30312 = \"30312_weather_traffic_FINAL.csv\"\n",
    "zip30339 = \"30339_weather_traffic_FINAL.csv\"\n",
    "zip30331 = \"30331_weather_traffic_FINAL.csv\"\n",
    "zip30315 = \"30315_weather_traffic_FINAL.csv\"\n",
    "zip30309 = \"30309_weather_traffic_FINAL.csv\"\n",
    "zip30340 = \"30340_weather_traffic_FINAL.csv\"\n",
    "zip30308 = \"30308_weather_traffic_FINAL.csv\"\n",
    "zip30324 = \"30324_weather_traffic_FINAL.csv\"\n",
    "zip30342 = \"30342_weather_traffic_FINAL.csv\"\n",
    "zip30318 = \"30318_weather_traffic_FINAL.csv\"\n",
    "\n",
    "zip30312_df = pd.read_csv(zip30312)\n",
    "zip30339_df = pd.read_csv(zip30339)\n",
    "zip30331_df = pd.read_csv(zip30331)\n",
    "zip30315_df = pd.read_csv(zip30315)\n",
    "zip30309_df = pd.read_csv(zip30309)\n",
    "zip30340_df = pd.read_csv(zip30340)\n",
    "zip30308_df = pd.read_csv(zip30308)\n",
    "zip30324_df = pd.read_csv(zip30324)\n",
    "zip30342_df = pd.read_csv(zip30342)\n",
    "zip30318_df = pd.read_csv(zip30318)\n",
    "\n",
    "print(zip30318_df)\n"
   ]
  },
  {
   "cell_type": "code",
   "execution_count": 3,
   "metadata": {},
   "outputs": [
    {
     "data": {
      "text/plain": [
       "<Figure size 720x1440 with 0 Axes>"
      ]
     },
     "execution_count": 3,
     "metadata": {},
     "output_type": "execute_result"
    },
    {
     "data": {
      "image/png": "[encoded data removed]",
      "text/plain": [
       "<Figure size 432x288 with 1 Axes>"
      ]
     },
     "metadata": {
      "needs_background": "light"
     },
     "output_type": "display_data"
    },
    {
     "data": {
      "text/plain": [
       "<Figure size 720x1440 with 0 Axes>"
      ]
     },
     "metadata": {},
     "output_type": "display_data"
    }
   ],
   "source": [
    "# summary_accidents_df = pd.DataFrame({\"Zip 30318\": [zip30318_df[\"Accident_ct\"].sum())]})                                           })\n",
    "zip30312count = zip30312_df[\"Accident_ct\"].sum()\n",
    "zip30339count = zip30339_df[\"Accident_ct\"].sum()\n",
    "zip30331count = zip30331_df[\"Accident_ct\"].sum()\n",
    "zip30315count = zip30315_df[\"Accident_ct\"].sum()\n",
    "zip30309count = zip30309_df[\"Accident_ct\"].sum()\n",
    "zip30340count = zip30340_df[\"Accident_ct\"].sum()\n",
    "zip30308count = zip30308_df[\"Accident_ct\"].sum()\n",
    "zip30324count = zip30324_df[\"Accident_ct\"].sum()\n",
    "zip30342count = zip30342_df[\"Accident_ct\"].sum()\n",
    "zip30318count = zip30318_df[\"Accident_ct\"].sum()\n",
    "# print(zip30318_df[\"Accident_ct\"].sum())\n",
    "# print(zip30018count)\n",
    "zipcount=[zip30312count,zip30339count,zip30331count,zip30315count,zip30309count,zip30340count,zip30308count,zip30324count,zip30342count,zip30318count]\n",
    "# print(zipcount)\n",
    "zips =['30312','30339','30331','30315','30309','30340','30308','30324','30342','30318']\n",
    "# print(zips)\n",
    "\n",
    "plt.bar(zips, zipcount, color=\"b\",alpha=.75, align=\"center\")\n",
    "plt.xticks(rotation=90)\n",
    "plt.figure(figsize=(10,20))\n"
   ]
  },
  {
   "cell_type": "code",
   "execution_count": 4,
   "metadata": {},
   "outputs": [
    {
     "name": "stdout",
     "output_type": "stream",
     "text": [
      "The correlation between precip and accidents is 17.0%\n"
     ]
    },
    {
     "data": {
      "image/png": "[encoded data removed]",
      "text/plain": [
       "<Figure size 432x288 with 1 Axes>"
      ]
     },
     "metadata": {
      "needs_background": "light"
     },
     "output_type": "display_data"
    }
   ],
   "source": [
    "#accidents with precipitation\n",
    "precip30312 = zip30312_df.loc[zip30312_df['Precipitation'] > 0,['Precipitation','Accident_ct']]\n",
    "precip30339 = zip30339_df.loc[zip30339_df['Precipitation'] > 0,['Precipitation','Accident_ct']]\n",
    "precip30331 = zip30331_df.loc[zip30331_df['Precipitation'] > 0,['Precipitation','Accident_ct']]\n",
    "precip30315 = zip30315_df.loc[zip30315_df['Precipitation'] > 0,['Precipitation','Accident_ct']]\n",
    "precip30309 = zip30309_df.loc[zip30309_df['Precipitation'] > 0,['Precipitation','Accident_ct']]\n",
    "precip30340 = zip30340_df.loc[zip30340_df['Precipitation'] > 0,['Precipitation','Accident_ct']]\n",
    "precip30308 = zip30308_df.loc[zip30308_df['Precipitation'] > 0,['Precipitation','Accident_ct']]\n",
    "precip30324 = zip30324_df.loc[zip30324_df['Precipitation'] > 0,['Precipitation','Accident_ct']]\n",
    "precip30342 = zip30342_df.loc[zip30342_df['Precipitation'] > 0,['Precipitation','Accident_ct']]\n",
    "precip30318 = zip30318_df.loc[zip30318_df['Precipitation'] > 0,['Precipitation','Accident_ct']]\n",
    "\n",
    "# precip30312\n",
    "\n",
    "(slope, intercept, rvalue, pvalue, stderr) = linregress(precip30312['Precipitation'], precip30312['Accident_ct'])\n",
    "regress_values = slope * precip30312['Precipitation'] + intercept\n",
    "line_eq = \"y = \" + str(round(slope,2)) + \"x + \" + str(round(intercept,2))\n",
    "plt.scatter(precip30312['Precipitation'], precip30312['Accident_ct'])\n",
    "plt.plot(precip30312['Precipitation'], regress_values)\n",
    "plt.annotate(line_eq,(1.5,15),fontsize=15,color=\"red\")\n",
    "plt.xlabel(\"Precip\")\n",
    "plt.ylabel(\"Accidents\")\n",
    "plt.title(\"Accident Data 30312\")\n",
    "corr=round(st.pearsonr(precip30312['Precipitation'], precip30312['Accident_ct'])[0],2)*100\n",
    "print(f\"The correlation between precip and accidents is {corr}%\")\n",
    "\n",
    "\n",
    "\n"
   ]
  },
  {
   "cell_type": "code",
   "execution_count": 5,
   "metadata": {},
   "outputs": [
    {
     "name": "stdout",
     "output_type": "stream",
     "text": [
      "30312 mean accidents with precipitation only 3.1140350877192984\n",
      "30312 mean accidents All data 2.4\n",
      "30339 mean accidents with precipitation only 1.6260504201680672\n",
      "30339 mean accidents All data 1.5013698630136987\n",
      "30331 mean accidents with precipitation only 1.7397260273972603\n",
      "30331 mean accidents All data 1.489041095890411\n",
      "30315 mean accidents with precipitation only 2.294642857142857\n",
      "30315 mean accidents All data 1.6794520547945206\n",
      "30309 mean accidents with precipitation only 1.794759825327511\n",
      "30309 mean accidents All data 1.5575342465753426\n",
      "30340 mean accidents with precipitation only 1.5896226415094339\n",
      "30340 mean accidents All data 1.4273972602739726\n",
      "30324 mean accidents with precipitation only 1.3766816143497758\n",
      "30324 mean accidents All data 1.3863013698630138\n",
      "30342 mean accidents with precipitation only 1.1081081081081081\n",
      "30342 mean accidents All data 0.9534246575342465\n",
      "30318 mean accidents with precipitation only 1.4061135371179039\n",
      "30318 mean accidents All data 1.121917808219178\n"
     ]
    }
   ],
   "source": [
    "# Create Averages of data on days with precipitation\n",
    "\n",
    "precip30312_avgaccident = precip30312['Accident_ct'].mean()\n",
    "precip30339_avgaccident = precip30339['Accident_ct'].mean()\n",
    "precip30331_avgaccident = precip30331['Accident_ct'].mean()\n",
    "precip30315_avgaccident = precip30315['Accident_ct'].mean()\n",
    "precip30309_avgaccident = precip30309['Accident_ct'].mean()\n",
    "precip30340_avgaccident = precip30340['Accident_ct'].mean()\n",
    "precip30308_avgaccident = precip30308['Accident_ct'].mean()\n",
    "precip30324_avgaccident = precip30324['Accident_ct'].mean()\n",
    "precip30342_avgaccident = precip30342['Accident_ct'].mean()\n",
    "precip30318_avgaccident = precip30318['Accident_ct'].mean()\n",
    "\n",
    "\n",
    "print('30312 mean accidents with precipitation only '+str(precip30312_avgaccident))\n",
    "print('30312 mean accidents All data '+str(zip30312_df[\"Accident_ct\"].mean()))\n",
    "\n",
    "print('30339 mean accidents with precipitation only '+str(precip30339_avgaccident))\n",
    "print('30339 mean accidents All data '+str(zip30339_df[\"Accident_ct\"].mean()))\n",
    "\n",
    "print('30331 mean accidents with precipitation only '+str(precip30331_avgaccident))\n",
    "print('30331 mean accidents All data '+str(zip30331_df[\"Accident_ct\"].mean()))\n",
    "\n",
    "print('30315 mean accidents with precipitation only '+str(precip30315_avgaccident))\n",
    "print('30315 mean accidents All data '+str(zip30315_df[\"Accident_ct\"].mean()))\n",
    "\n",
    "print('30309 mean accidents with precipitation only '+str(precip30309_avgaccident))\n",
    "print('30309 mean accidents All data '+str(zip30309_df[\"Accident_ct\"].mean()))\n",
    "\n",
    "print('30340 mean accidents with precipitation only '+str(precip30340_avgaccident))\n",
    "print('30340 mean accidents All data '+str(zip30340_df[\"Accident_ct\"].mean()))\n",
    "\n",
    "print('30324 mean accidents with precipitation only '+str(precip30324_avgaccident))\n",
    "print('30324 mean accidents All data '+str(zip30324_df[\"Accident_ct\"].mean()))\n",
    "\n",
    "print('30342 mean accidents with precipitation only '+str(precip30342_avgaccident))\n",
    "print('30342 mean accidents All data '+str(zip30342_df[\"Accident_ct\"].mean()))\n",
    "\n",
    "print('30318 mean accidents with precipitation only '+str(precip30318_avgaccident))\n",
    "print('30318 mean accidents All data '+str(zip30318_df[\"Accident_ct\"].mean()))\n"
   ]
  },
  {
   "cell_type": "code",
   "execution_count": 6,
   "metadata": {},
   "outputs": [],
   "source": [
    "# accidents without precipitation\n",
    "NOprecip30312 = zip30312_df.loc[zip30312_df['Precipitation'] == 0,['Precipitation','Accident_ct']]\n",
    "NOprecip30339 = zip30339_df.loc[zip30339_df['Precipitation'] == 0,['Precipitation','Accident_ct']]\n",
    "NOprecip30331 = zip30331_df.loc[zip30331_df['Precipitation'] == 0,['Precipitation','Accident_ct']]\n",
    "NOprecip30315 = zip30315_df.loc[zip30315_df['Precipitation'] == 0,['Precipitation','Accident_ct']]\n",
    "NOprecip30309 = zip30309_df.loc[zip30309_df['Precipitation'] == 0,['Precipitation','Accident_ct']]\n",
    "NOprecip30340 = zip30340_df.loc[zip30340_df['Precipitation'] == 0,['Precipitation','Accident_ct']]\n",
    "NOprecip30308 = zip30308_df.loc[zip30308_df['Precipitation'] == 0,['Precipitation','Accident_ct']]\n",
    "NOprecip30324 = zip30324_df.loc[zip30324_df['Precipitation'] == 0,['Precipitation','Accident_ct']]\n",
    "NOprecip30342 = zip30342_df.loc[zip30342_df['Precipitation'] == 0,['Precipitation','Accident_ct']]\n",
    "NOprecip30318 = zip30318_df.loc[zip30318_df['Precipitation'] == 0,['Precipitation','Accident_ct']]\n",
    "\n",
    "\n",
    "NOprecip30312_avgaccident = NOprecip30312['Accident_ct'].mean()\n",
    "NOprecip30339_avgaccident = NOprecip30339['Accident_ct'].mean()\n",
    "NOprecip30331_avgaccident = NOprecip30331['Accident_ct'].mean()\n",
    "NOprecip30315_avgaccident = NOprecip30315['Accident_ct'].mean()\n",
    "NOprecip30309_avgaccident = NOprecip30309['Accident_ct'].mean()\n",
    "NOprecip30340_avgaccident = NOprecip30340['Accident_ct'].mean()\n",
    "NOprecip30308_avgaccident = NOprecip30308['Accident_ct'].mean()\n",
    "NOprecip30324_avgaccident = NOprecip30324['Accident_ct'].mean()\n",
    "NOprecip30342_avgaccident = NOprecip30342['Accident_ct'].mean()\n",
    "NOprecip30318_avgaccident = NOprecip30318['Accident_ct'].mean()\n"
   ]
  },
  {
   "cell_type": "code",
   "execution_count": 7,
   "metadata": {},
   "outputs": [
    {
     "name": "stdout",
     "output_type": "stream",
     "text": [
      "30324 mean accidents with precipitation 1.3766816143497758\n",
      "30324 mean accidents NO precipitation 1.3905325443786982\n",
      "30324 mean accidents All data 1.3863013698630138\n"
     ]
    }
   ],
   "source": [
    "print('30324 mean accidents with precipitation '+str(precip30324_avgaccident))\n",
    "print('30324 mean accidents NO precipitation '+str(NOprecip30324_avgaccident))\n",
    "print('30324 mean accidents All data '+str(zip30324_df[\"Accident_ct\"].mean()))\n",
    "\n"
   ]
  },
  {
   "cell_type": "code",
   "execution_count": 17,
   "metadata": {},
   "outputs": [
    {
     "data": {
      "image/png": "[encoded data removed]",
      "text/plain": [
       "<Figure size 720x360 with 1 Axes>"
      ]
     },
     "metadata": {
      "needs_background": "light"
     },
     "output_type": "display_data"
    }
   ],
   "source": [
    "Average=[zip30312_df[\"Accident_ct\"].mean(),\n",
    "         zip30339_df[\"Accident_ct\"].mean(),\n",
    "         zip30331_df[\"Accident_ct\"].mean(),\n",
    "         zip30315_df[\"Accident_ct\"].mean(),\n",
    "         zip30309_df[\"Accident_ct\"].mean(),\n",
    "         zip30340_df[\"Accident_ct\"].mean(),\n",
    "         zip30308_df[\"Accident_ct\"].mean(),\n",
    "         zip30324_df[\"Accident_ct\"].mean(),\n",
    "         zip30342_df[\"Accident_ct\"].mean(),\n",
    "         zip30318_df[\"Accident_ct\"].mean(),]\n",
    "\n",
    "Average_Precip=[precip30312_avgaccident,\n",
    "         precip30339_avgaccident,\n",
    "         precip30331_avgaccident,\n",
    "         precip30315_avgaccident,\n",
    "         precip30309_avgaccident,\n",
    "         precip30340_avgaccident,\n",
    "         precip30308_avgaccident,\n",
    "         precip30324_avgaccident,\n",
    "         precip30342_avgaccident,\n",
    "         precip30318_avgaccident,]\n",
    "\n",
    "\n",
    "Average_NOPrecip=[NOprecip30312_avgaccident,\n",
    "         NOprecip30339_avgaccident,\n",
    "         NOprecip30331_avgaccident,\n",
    "         NOprecip30315_avgaccident,\n",
    "         NOprecip30309_avgaccident,\n",
    "         NOprecip30340_avgaccident,\n",
    "         NOprecip30308_avgaccident,\n",
    "         NOprecip30324_avgaccident,\n",
    "         NOprecip30342_avgaccident,\n",
    "         NOprecip30318_avgaccident,]\n",
    "\n",
    "# Average\n",
    "# Average_Precip\n",
    "# Average_N0precip\n",
    "\n",
    "zips =['30312','30339','30331','30315','30309','30340','30308','30324','30342','30318']\n",
    "\n",
    "# plt.bar(zips, Average, color=\"r\",alpha=.75, align=\"center\")\n",
    "# plt.bar(zips, Average_NOPrecip, color=\"b\",alpha=.75, align=\"center\")\n",
    "# plt.bar(zips, Average_Precip, color=\"g\",alpha=.75, align=\"center\")\n",
    "\n",
    "\n",
    "# plt.xticks(rotation=90)\n",
    "# plt.figure(figsize=(10,20))\n",
    "\n",
    "# Numbers of triples of bars you want\n",
    "N = 10\n",
    "\n",
    "# Data on X-axis\n",
    "\n",
    "\n",
    "blue_bar = (Average)\n",
    "orange_bar = (Average_Precip)\n",
    "green_bar = (Average_NOPrecip)\n",
    "\n",
    "# Position of bars on x-axis\n",
    "ind = np.arange(N)\n",
    "\n",
    "# Figure size\n",
    "plt.figure(figsize=(10,5))\n",
    "\n",
    "# Width of a bar \n",
    "width = 0.3       \n",
    "\n",
    "# Plotting\n",
    "plt.bar(ind, blue_bar , width, label='Average')\n",
    "plt.bar(ind + width, orange_bar, width, label='Average with Precipitation')\n",
    "plt.bar(ind + width + width, green_bar, width, label='Average without Precipitation')\n",
    "\n",
    "plt.ylabel('Accidents per day')\n",
    "plt.title('Average Accidents per day based on Precipitation')\n",
    "\n",
    "# xticks()\n",
    "# First argument - A list of positions at which ticks should be placed\n",
    "# Second argument -  A list of labels to place at the given locations\n",
    "plt.xticks(ind + width , (zips))\n",
    "\n",
    "# Finding the best position for legends and putting it\n",
    "plt.legend(loc='best')\n",
    "plt.show()"
   ]
  },
  {
   "cell_type": "code",
   "execution_count": null,
   "metadata": {},
   "outputs": [],
   "source": []
  },
  {
   "cell_type": "code",
   "execution_count": null,
   "metadata": {},
   "outputs": [],
   "source": []
  }
 ],
 "metadata": {
  "kernelspec": {
   "display_name": "Python [conda env:PythonData] *",
   "language": "python",
   "name": "conda-env-PythonData-py"
  },
  "language_info": {
   "codemirror_mode": {
    "name": "ipython",
    "version": 3
   },
   "file_extension": ".py",
   "mimetype": "text/x-python",
   "name": "python",
   "nbconvert_exporter": "python",
   "pygments_lexer": "ipython3",
   "version": "3.6.10"
  }
 },
 "nbformat": 4,
 "nbformat_minor": 4
}
